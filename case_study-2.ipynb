{
 "cells": [
  {
   "cell_type": "markdown",
   "metadata": {},
   "source": [
    "# Case Study Answers"
   ]
  },
  {
   "cell_type": "code",
   "execution_count": 2,
   "metadata": {},
   "outputs": [],
   "source": [
    "# Import packages \n",
    "import os \n",
    "import glob\n",
    "import numpy as np \n",
    "import pandas as pd \n",
    "import plotly.express as px \n",
    "import plotly.graph_objects as go \n",
    "\n",
    "from pathlib import Path"
   ]
  },
  {
   "cell_type": "code",
   "execution_count": 3,
   "metadata": {},
   "outputs": [],
   "source": [
    "file_path = r\"/BMCC/Lesson Materials/Weeks 6 - 7/Data/Instacart Market Basket Analysis\"\n",
    "os.chdir(file_path)\n",
    "sourcefiles = os.listdir(file_path)"
   ]
  },
  {
   "cell_type": "code",
   "execution_count": 4,
   "metadata": {},
   "outputs": [],
   "source": [
    "# 1 - Import all datasets as dataframes using dictionary comprehension\n",
    "# Functionality of .resolve():\n",
    "# Converts relative paths to absolute paths: Given a relative path, .resolve() resolves it to its corresponding absolute path. This means it determines the full path to the file or directory by considering the current working directory.\n",
    "# Normalizes paths: It also normalizes the path, removing any redundant components like \".\" (current directory) and \"..\" (parent directory).\n",
    "dfs = {file.stem: pd.read_csv(file.resolve()) for file in Path(file_path).glob(\"*.csv\")}"
   ]
  },
  {
   "cell_type": "code",
   "execution_count": 5,
   "metadata": {},
   "outputs": [],
   "source": [
    "products_df = dfs[\"products\"]\n",
    "orders_df = dfs[\"orders\"]\n",
    "departments_df = dfs[\"departments\"]\n",
    "aisles_df = dfs[\"aisles\"]\n",
    "order_products_prior_df = dfs[\"order_products__prior\"]"
   ]
  },
  {
   "cell_type": "code",
   "execution_count": null,
   "metadata": {},
   "outputs": [],
   "source": [
    "# 2 - Print the shape of each dataframe \n",
    "print(f\"Shape of products dataframe: {products_df.shape}\\n\")\n",
    "print(f\"Shape of orders dataframe: {orders_df.shape}\\n\")\n",
    "print(f\"Shape of departments dataframe: {departments_df.shape}\\n\")\n",
    "print(f\"Shape of aisles dataframe: {aisles_df.shape}\\n\")\n",
    "print(f\"Shape of order products prior dataframe: {order_products_prior_df.shape}\\n\")"
   ]
  },
  {
   "cell_type": "code",
   "execution_count": 30,
   "metadata": {},
   "outputs": [],
   "source": [
    "# 3 - Merge dataframes to show products, aisles, and departments they are found in \n",
    "merge1 = pd.merge(products_df, aisles_df, on = \"aisle_id\", how = \"inner\")\n",
    "final_merge1 = pd.merge(merge1, departments_df, on = \"department_id\", how = \"inner\")"
   ]
  },
  {
   "cell_type": "code",
   "execution_count": 31,
   "metadata": {},
   "outputs": [],
   "source": [
    "# 4 - Merge the orders, products, and order_products_prior dataframes on \"order_id\" and \"product_id\"\n",
    "# 4a - Perform this merge using the inner and left methods \n",
    "# 4b - What is the shape of both dataframes af the merge \n",
    "\n",
    "# INNER MERGE \n",
    "# Merge orders and order_products_prior first \n",
    "merge1 = pd.merge(orders_df, order_products_prior_df, on =\"order_id\", how = \"inner\")\n",
    "final_merge2 = pd.merge(merge1, products_df, on = \"product_id\", how = \"inner\")\n",
    "\n",
    "# 4b - What is the shape of both dataframes af the merge\n",
    "# final_merge2.shape"
   ]
  },
  {
   "cell_type": "code",
   "execution_count": null,
   "metadata": {},
   "outputs": [],
   "source": [
    "# LEFT MERGE\n",
    "merge2 = pd.merge(orders_df, order_products_prior_df, on = \"order_id\", how = \"left\")\n",
    "final_merge3 = pd.merge(merge2, products_df, on = \"product_id\", how = \"left\")\n",
    "\n",
    "# 4b - What is the shape of both dataframes af the merge\n",
    "final_merge3.shape"
   ]
  },
  {
   "cell_type": "code",
   "execution_count": null,
   "metadata": {},
   "outputs": [],
   "source": [
    "# 5 - Perform EDA on the newly merged dataframes that were a result of the inner joins \n",
    "# 5a - Print the summary stats for the merged dataframes \n",
    "print(\"SUMMARY STATS FOR ORDER, AISLES, AND PRODUCTS DATAFRAME\")\n",
    "print(final_merge1.describe())"
   ]
  },
  {
   "cell_type": "code",
   "execution_count": null,
   "metadata": {},
   "outputs": [],
   "source": [
    "print(\"SUMMARY STATS FOR ORDER PRODUCTS PRIOR DATAFRAME\")\n",
    "print(final_merge2.describe())"
   ]
  },
  {
   "cell_type": "code",
   "execution_count": 37,
   "metadata": {},
   "outputs": [],
   "source": [
    "# 6 - VISUALIZATIONS \n",
    "# 6a - Bar plot to visualize most ordered product in the data \n",
    "\n",
    "# Prep data \n",
    "most_ordered_prod = final_merge2.groupby(\"product_name\").agg(Count_orders = pd.NamedAgg(\"product_name\", \"size\")).sort_values(\"Count_orders\", ascending = False).reset_index(drop = False)\n",
    "most_ordered_prod_10 = most_ordered_prod.head(10)"
   ]
  },
  {
   "cell_type": "code",
   "execution_count": null,
   "metadata": {},
   "outputs": [],
   "source": [
    "# Create bar plot \n",
    "# colors = [\"#88AB75\", \"#2D93AD\", \"#7D7C84\"]\n",
    "bar_plot = go.Bar(\n",
    "    x = most_ordered_prod_10[\"product_name\"], \n",
    "    y = most_ordered_prod_10[\"Count_orders\"],\n",
    "    marker = dict(color = \"#2D93AD\"),\n",
    "    text = most_ordered_prod_10[\"Count_orders\"],\n",
    "    textposition = \"outside\"\n",
    ")\n",
    "\n",
    "# Create a layout for the bar plot\n",
    "layout = go.Layout(\n",
    "    title = \"Top 10 Most Ordered Products\",\n",
    "    xaxis_title = \"Product Name\", \n",
    "    yaxis_title = \"Number of Orders\",\n",
    "    height = 600,\n",
    "    width = 800\n",
    ")\n",
    "\n",
    "# View the barplot using the layout from above\n",
    "bar_fig = go.Figure(data = [bar_plot], layout = layout)\n",
    "bar_fig.show()"
   ]
  },
  {
   "cell_type": "code",
   "execution_count": null,
   "metadata": {},
   "outputs": [],
   "source": [
    "# 6b - Bar plot to visualize the most reordered product in the data \n",
    "# Create dataframe to show the most reordered product \n",
    "\n",
    "reorders = final_merge2[final_merge2[\"reordered\"] == 1]\n",
    "reorders.head()"
   ]
  },
  {
   "cell_type": "code",
   "execution_count": 45,
   "metadata": {},
   "outputs": [],
   "source": [
    "# Reorders groupby \n",
    "reorders_grouped = reorders.groupby(\"product_name\").agg(Order_count = pd.NamedAgg(\"product_name\", \"size\")).sort_values(\"Order_count\", ascending =  False).reset_index(drop = False)\n",
    "reorders_grouped_10 = reorders_grouped.head(10)"
   ]
  },
  {
   "cell_type": "code",
   "execution_count": null,
   "metadata": {},
   "outputs": [],
   "source": [
    "# Create bar plot \n",
    "# colors = [\"#88AB75\", \"#2D93AD\", \"#7D7C84\"]\n",
    "bar_plot = go.Bar(\n",
    "    x = reorders_grouped_10[\"product_name\"], \n",
    "    y = reorders_grouped_10[\"Order_count\"],\n",
    "    marker = dict(color = \"#2D93AD\"),\n",
    "    text = reorders_grouped_10[\"Order_count\"],\n",
    "    textposition = \"outside\"\n",
    ")\n",
    "\n",
    "# Create a layout for the bar plot\n",
    "layout = go.Layout(\n",
    "    title = \"Top 10 Most Re-Ordered Products\",\n",
    "    xaxis_title = \"Product Name\", \n",
    "    yaxis_title = \"Number of Orders\",\n",
    "    height = 600,\n",
    "    width = 800\n",
    ")\n",
    "\n",
    "# View the barplot using the layout from above\n",
    "bar_fig = go.Figure(data = [bar_plot], layout = layout)\n",
    "bar_fig.show()"
   ]
  },
  {
   "cell_type": "code",
   "execution_count": null,
   "metadata": {},
   "outputs": [],
   "source": [
    "# 6c - Most Ordered Departments or Aisles: Show the total number of orders by department (e.g., produce, dairy) or \n",
    "# aisles to understand which departments are the most popular\n",
    "\n",
    "# Look at columns names to figure out what to merge\n",
    "final_merge2.columns"
   ]
  },
  {
   "cell_type": "code",
   "execution_count": null,
   "metadata": {},
   "outputs": [],
   "source": [
    "# Merge datasets\n",
    "department_merge_final = pd.merge(final_merge2, departments_df, on = \"department_id\", how = \"inner\")\n",
    "aisle_merge_department = pd.merge(department_merge_final, aisles_df, on = \"aisle_id\", how = \"inner\")\n",
    "\n",
    "aisle_merge_department.head(10)"
   ]
  },
  {
   "cell_type": "code",
   "execution_count": null,
   "metadata": {},
   "outputs": [],
   "source": [
    "# Group aisles \n",
    "aisles_grouped_10 = aisle_merge_department.groupby(\"aisle\").agg(Count_aisle = pd.NamedAgg(\"aisle\", \"size\")).sort_values(\"Count_aisle\", ascending = False).reset_index(drop = False).head(10)\n",
    "aisles_grouped_10"
   ]
  },
  {
   "cell_type": "code",
   "execution_count": null,
   "metadata": {},
   "outputs": [],
   "source": [
    "# Create bar plot \n",
    "# colors = [\"#88AB75\", \"#2D93AD\", \"#7D7C84\"]\n",
    "bar_plot = go.Bar(\n",
    "    x = aisles_grouped_10[\"aisle\"], \n",
    "    y = aisles_grouped_10[\"Count_aisle\"],\n",
    "    marker = dict(color = \"#2D93AD\"),\n",
    "    text = aisles_grouped_10[\"Count_aisle\"],\n",
    "    textposition = \"outside\"\n",
    ")\n",
    "\n",
    "# Create a layout for the bar plot\n",
    "layout = go.Layout(\n",
    "    title = \"Most Commonly Shopped Aisle\",\n",
    "    xaxis_title = \"Aisle Name\", \n",
    "    yaxis_title = \"Number of Orders\",\n",
    "    height = 600,\n",
    "    width = 800\n",
    ")\n",
    "\n",
    "# View the barplot using the layout from above\n",
    "bar_fig = go.Figure(data = [bar_plot], layout = layout)\n",
    "bar_fig.show()"
   ]
  },
  {
   "cell_type": "code",
   "execution_count": 55,
   "metadata": {},
   "outputs": [],
   "source": [
    "# 6d - Encode the day of week column (dow) from numerical to categorical (the day name) and produce a visualization \n",
    "# that shows all orders by day of week and sort the visualization in ascending order based on day of week \n",
    "\n",
    "# Use the calendar module \n",
    "import calendar"
   ]
  },
  {
   "cell_type": "code",
   "execution_count": 56,
   "metadata": {},
   "outputs": [],
   "source": [
    "# Create function to 'translate' dow to day name \n",
    "def day_name(weekday_int):\n",
    "    return calendar.day_name[weekday_int]"
   ]
  },
  {
   "cell_type": "code",
   "execution_count": 57,
   "metadata": {},
   "outputs": [],
   "source": [
    "# Create day name column \n",
    "aisle_merge_department[\"Day Name\"] = aisle_merge_department[\"order_dow\"].apply(lambda x: day_name(x))"
   ]
  },
  {
   "cell_type": "code",
   "execution_count": null,
   "metadata": {},
   "outputs": [],
   "source": [
    "# Create dataframe that counts orders by day of week \n",
    "days_grouped = aisle_merge_department.groupby([\"order_dow\", \"Day Name\"]).agg(Orders = pd.NamedAgg(\"Day Name\", \"size\")).sort_values(\"order_dow\", ascending = True).reset_index(drop = False)\n",
    "\n",
    "days_grouped.dtypes"
   ]
  },
  {
   "cell_type": "code",
   "execution_count": null,
   "metadata": {},
   "outputs": [],
   "source": [
    "days_grouped[\"Weekday concat\"] = days_grouped[\"order_dow\"].astype(str) + \"-\" + days_grouped[\"Day Name\"]\n",
    "days_grouped"
   ]
  },
  {
   "cell_type": "code",
   "execution_count": null,
   "metadata": {},
   "outputs": [],
   "source": [
    "# Create bar plot \n",
    "# colors = [\"#88AB75\", \"#2D93AD\", \"#7D7C84\"]\n",
    "bar_plot = go.Bar(\n",
    "    x = days_grouped[\"Weekday concat\"], \n",
    "    y = days_grouped[\"Orders\"],\n",
    "    marker = dict(color = \"#2D93AD\"),\n",
    "    text = days_grouped[\"Orders\"],\n",
    "    textposition = \"outside\"\n",
    ")\n",
    "\n",
    "# Create a layout for the bar plot\n",
    "layout = go.Layout(\n",
    "    title = \"Order Counts by Day of Week\",\n",
    "    xaxis_title = \"Day Name\", \n",
    "    yaxis_title = \"Number of Orders\",\n",
    "    height = 600,\n",
    "    width = 800\n",
    ")\n",
    "\n",
    "# View the barplot using the layout from above\n",
    "bar_fig = go.Figure(data = [bar_plot], layout = layout)\n",
    "bar_fig.show()"
   ]
  },
  {
   "cell_type": "code",
   "execution_count": null,
   "metadata": {},
   "outputs": [],
   "source": [
    "aisle_merge_department.columns"
   ]
  },
  {
   "cell_type": "code",
   "execution_count": null,
   "metadata": {},
   "outputs": [],
   "source": [
    "# 6e - What hour of the day are customers most likely to order a product? \n",
    "order_hour = aisle_merge_department.groupby(\"order_hour_of_day\").agg(Order = pd.NamedAgg(\"order_hour_of_day\", \"size\")).sort_values(\"order_hour_of_day\", ascending = True).reset_index(drop = False)\n",
    "order_hour"
   ]
  },
  {
   "cell_type": "code",
   "execution_count": 78,
   "metadata": {},
   "outputs": [],
   "source": [
    "#  6f - A word cloud of products to show the most ordered product\n",
    "from wordcloud import WordCloud\n",
    "import matplotlib.pyplot as plt"
   ]
  },
  {
   "cell_type": "code",
   "execution_count": null,
   "metadata": {},
   "outputs": [],
   "source": [
    "most_ordered = most_ordered_prod_10.set_index(\"product_name\").to_dict()[\"Count_orders\"]\n",
    "most_ordered"
   ]
  },
  {
   "cell_type": "code",
   "execution_count": null,
   "metadata": {},
   "outputs": [],
   "source": [
    "wc = WordCloud(width = 800, height = 400).generate_from_frequencies(most_ordered)\n",
    "\n",
    "plt.figure(figsize = (10, 10))\n",
    "plt.imshow(wc, interpolation = 'bilinear')\n",
    "plt.axis('off')\n",
    "plt.show()\n"
   ]
  },
  {
   "cell_type": "code",
   "execution_count": null,
   "metadata": {},
   "outputs": [],
   "source": [
    "aisle_merge_department.columns"
   ]
  },
  {
   "cell_type": "code",
   "execution_count": null,
   "metadata": {},
   "outputs": [],
   "source": [
    "# 6g - Hourly/Weekly Order Patterns: Create a heatmap showing the frequency of orders at different times of the day and \n",
    "# days of the week. This can reveal peak shopping hours and days.\n",
    "\n",
    "# Create dataframe of hours per hour per day \n",
    "day_hour = aisle_merge_department.groupby([\"order_hour_of_day\", \"Day Name\"]).agg(Count = pd.NamedAgg(\"order_hour_of_day\", \"size\")).sort_values(\"order_hour_of_day\", ascending = True).reset_index(drop = False)\n",
    "day_hour"
   ]
  },
  {
   "cell_type": "code",
   "execution_count": null,
   "metadata": {},
   "outputs": [],
   "source": [
    "# Pivot data to create matrix \n",
    "heatmap_data = day_hour.pivot(index = \"order_hour_of_day\", columns = \"Day Name\", values = \"Count\")\n",
    "heatmap_data"
   ]
  },
  {
   "cell_type": "code",
   "execution_count": null,
   "metadata": {},
   "outputs": [],
   "source": [
    "# Create heatmap \n",
    "fig = go.Figure(data = go.Heatmap(\n",
    "    z = heatmap_data.values,\n",
    "    x = heatmap_data.columns, \n",
    "    y = heatmap_data.index,\n",
    "    type = \"heatmap\",\n",
    "    colorscale = \"rdbu\"\n",
    "))\n",
    "\n",
    "fig.update_layout(title = \"Heatmap of Orders by Day of Week and Hour\")\n",
    "\n",
    "fig.update_layout(xaxis = dict(title = \"Day of Week\", zeroline = True, zerolinecolor = 'red', zerolinewidth = 2))\n",
    "\n",
    "# Add zeroline to y-axis\n",
    "fig.update_layout(yaxis = dict(title = \"Hour of Day\", zeroline = True, zerolinecolor = 'red', zerolinewidth = 2))\n",
    "\n",
    "fig.show()"
   ]
  },
  {
   "cell_type": "code",
   "execution_count": null,
   "metadata": {},
   "outputs": [],
   "source": [
    "# Reorder Probability Heatmap: Visualize the likelihood of \n",
    "# products being reordered by plotting the reorder probability \n",
    "# for different products or departments\n",
    "\n",
    "# DATAFRAMES: \n",
    "    # products_df = dfs[\"products\"]\n",
    "    # orders_df = dfs[\"orders\"]\n",
    "    # departments_df = dfs[\"departments\"]\n",
    "    # aisles_df = dfs[\"aisles\"]\n",
    "    # order_products_prior_df = dfs[\"order_products__prior\"]\n",
    "\n",
    "products_df.columns"
   ]
  },
  {
   "cell_type": "code",
   "execution_count": null,
   "metadata": {},
   "outputs": [],
   "source": [
    "\n",
    "\n",
    "# Group by product_id to calculate total orders and total reorders\n",
    "product_reorders = order_products_prior_df.groupby('product_id')['reordered'].agg(['sum', 'count']).reset_index()\n",
    "\n",
    "# Rename columns for clarity\n",
    "product_reorders.columns = ['product_id', 'total_reorders', 'total_orders']\n",
    "\n",
    "# Calculate reorder probability\n",
    "product_reorders['reorder_probability'] = product_reorders['total_reorders'] / product_reorders['total_orders']\n",
    "\n",
    "# Display the result\n",
    "product_reorders[['product_id', 'reorder_probability']].head()\n",
    "\n",
    "# Merge product information with reorder probabilities\n",
    "product_reorders = pd.merge(product_reorders, products_df[['product_id', 'department_id']], on = 'product_id')\n",
    "\n",
    "# Group by department_id and product_id to calculate reorder probability per product in each department\n",
    "department_reorder = product_reorders.groupby(['department_id', 'product_id'])['reorder_probability'].mean().reset_index()\n",
    "department_reorder = department_reorder.sort_values(\"reorder_probability\", ascending = False).reset_index(drop = True)\n",
    "department_reorder_100 = department_reorder.head(100)\n",
    "\n",
    "# Pivot data to create a matrix (department_id as rows, product_id as columns)\n",
    "heatmap_data = department_reorder_100.pivot(index = 'department_id', columns = 'product_id', values = 'reorder_probability')\n",
    "\n",
    "# Create a heatmap using Plotly's go.Heatmap\n",
    "fig = go.Figure(data = go.Heatmap(\n",
    "    z = heatmap_data.values,      # Reorder probabilities\n",
    "    x = heatmap_data.columns,     # Product IDs\n",
    "    y = heatmap_data.index,       # Department IDs\n",
    "    colorscale = 'rdbu',       # Change colorscale if desired\n",
    "    colorbar = dict(title = 'Reorder Probability')  # Title for the color bar\n",
    "))\n",
    "\n",
    "# Add title and labels\n",
    "fig.update_layout(\n",
    "    title = 'Reorder Probability Heatmap by Department and Product',  # Number of ticks on the x-axis\n",
    "    xaxis_title = \"Product ID\",\n",
    "    yaxis_title = \"Department ID\",\n",
    "    autosize = False,\n",
    "    width = 900,\n",
    "    height = 700\n",
    ")\n",
    "\n",
    "# Display the heatmap\n",
    "fig.show()\n"
   ]
  },
  {
   "cell_type": "code",
   "execution_count": 130,
   "metadata": {},
   "outputs": [],
   "source": [
    "# Proportion of Reordered vs. New Products: Stack orders by whether \n",
    "# they are reorders or first-time purchases to observe reorder trends \n",
    "# across departments\n",
    "\n",
    "# Merge ordered products with products and department data \n",
    "order_products_prior_df = pd.merge(order_products_prior_df, \n",
    "                                   products_df[[\"product_id\", \"department_id\"]], \n",
    "                                   on = \"product_id\", how = \"inner\")\n",
    "order_products_prior_df = pd.merge(order_products_prior_df, \n",
    "                                   departments_df[[\"department_id\", \"department\"]],\n",
    "                                   on = \"department_id\", how = \"inner\")"
   ]
  },
  {
   "cell_type": "code",
   "execution_count": 131,
   "metadata": {},
   "outputs": [],
   "source": [
    "# Groupby department and reordered to get counts of each departments' new and reordered statuses\n",
    "department_orders = order_products_prior_df.groupby([\"department\", \"reordered\"]).size().reset_index(name = \"counts\")"
   ]
  },
  {
   "cell_type": "code",
   "execution_count": null,
   "metadata": {},
   "outputs": [],
   "source": [
    "# Calculate proportions and map 0 and 1 in reordered column to \"Reorder\" and \"New Order\"\n",
    "department_orders[\"proportion\"] = department_orders.groupby(\"department\")[\"counts\"].transform(lambda x: x / x.sum())\n",
    "department_orders[\"reordered\"] = department_orders[\"reordered\"].map({1: \"Reorder\", 0: \"New Order\"})\n",
    "\n",
    "department_orders.head(10)"
   ]
  },
  {
   "cell_type": "code",
   "execution_count": null,
   "metadata": {},
   "outputs": [],
   "source": [
    "# Create stacked bar chart to display proportions by department\n",
    "fig = px.bar(department_orders, \n",
    "             x = \"department\", \n",
    "             y = \"proportion\", \n",
    "             color = \"reordered\",\n",
    "             title = \"Proportion of Reordered vs. Newly Ordered Products by Department\",\n",
    "             labels = {\"proportion\": \"Proportion\", \"department\": \"Department\", \"reordered\": \"Reordered\"},\n",
    "             color_discrete_sequence = [\"#88AB75\", \"#2D93AD\"])\n",
    "\n",
    "fig.show()"
   ]
  },
  {
   "cell_type": "code",
   "execution_count": null,
   "metadata": {},
   "outputs": [],
   "source": [
    "orders_df.columns"
   ]
  },
  {
   "cell_type": "code",
   "execution_count": null,
   "metadata": {},
   "outputs": [],
   "source": [
    "# Customer Behavior by Order Size: A histogram or density plot showing the distribution of order sizes (number of items per order). \n",
    "# Segment by customers to identify groups with smaller or larger basket sizes\n",
    "\n",
    "# Create merged dataframe to get order information for customers \n",
    "order_data = pd.merge(order_products_prior_df, orders_df[[\"order_id\", \"user_id\", \"order_number\"]], \n",
    "                      on = \"order_id\")\n",
    "\n",
    "# Create a new 'customer_type' column \n",
    "# 'New' = first ordering customer \n",
    "# 'Repeat' = multiple orders\n",
    "order_data[\"customer_type\"] = order_data[\"order_number\"].apply(lambda x: \"New\" if x == 1 else \"Repeat\")\n"
   ]
  },
  {
   "cell_type": "code",
   "execution_count": null,
   "metadata": {},
   "outputs": [],
   "source": [
    "# Calculate order size (number of products) per order \n",
    "order_size = order_data.groupby([\"order_id\", \"customer_type\"]).size().reset_index(name = \"order_size\")\n",
    "\n",
    "# Create histogram to compare order size distribution for new vs repeat customers \n",
    "fig = px.histogram(order_size,\n",
    "                   x = \"order_size\",\n",
    "                   color = \"customer_type\",\n",
    "                   nbins = 30,\n",
    "                   barmode = \"overlay\", \n",
    "                   title = \"Customer Behavior: Order Size Distribution (New vs. Repeat Customer)\",\n",
    "                   labels = {\"order_size\": \"Order Size (Number of Products)\", \"count\": \"Count\", \"customer_type\": \"Customer Type\"},\n",
    "                   color_discrete_sequence = [\"#88AB75\", \"#2D93AD\"])\n",
    "\n",
    "fig.show()"
   ]
  },
  {
   "cell_type": "code",
   "execution_count": null,
   "metadata": {},
   "outputs": [],
   "source": [
    "# Visualize via box plot \n",
    "fig = px.box(order_size, \n",
    "             x = \"customer_type\", \n",
    "             y = \"order_size\", \n",
    "             title = \"Customer Behavior: Order Size Distribution (New vs. Repeat Customers\",\n",
    "             labels = {\"order_size\": \"Order Size (Number of Products)\", \"customer_type\": \"Customer Type\"},\n",
    "             color = \"customer_type\", \n",
    "             color_discrete_sequence = [\"#88AB75\", \"#2D93AD\"])\n",
    "\n",
    "fig.show()"
   ]
  },
  {
   "cell_type": "code",
   "execution_count": 6,
   "metadata": {},
   "outputs": [],
   "source": [
    "# Loyalty Analysis: Bar plots showing the percentage of reorders by \n",
    "# customers to understand customer loyalty\n",
    "\n",
    "# Merge order_products_prior with orders to get customer information\n",
    "order_data = pd.merge(order_products_prior_df, orders_df[[\"order_id\", \"user_id\"]],\n",
    "                      on = \"order_id\", how = \"inner\")\n",
    "\n",
    "# Calculate reorder percentage for each customer\n",
    "customer_reorders = order_data.groupby(\"user_id\").agg(\n",
    "    total_orders = (\"reordered\", \"size\"),\n",
    "    reorder_count = (\"reordered\", \"sum\")\n",
    ").reset_index()"
   ]
  },
  {
   "cell_type": "code",
   "execution_count": 7,
   "metadata": {},
   "outputs": [],
   "source": [
    "# Calculate percentage of reorders (reorder_count / total_orders)\n",
    "customer_reorders[\"reorder_percentage\"] = (customer_reorders[\"reorder_count\"] / customer_reorders[\"total_orders\"]) * 100\n"
   ]
  },
  {
   "cell_type": "code",
   "execution_count": 8,
   "metadata": {},
   "outputs": [],
   "source": [
    "# Create bins for reorder percentages (0-10%, 10-20%, etc)\n",
    "bins = [0, 10, 20, 30, 40, 50, 60, 70, 80, 90, 100]\n",
    "labels = ['0-10%', '10-20%', '20-30%', '30-40%', '40-50%', '50-60%', '60-70%', '70-80%', '80-90%', '90-100%']\n",
    "customer_reorders[\"reorder_bin\"] = pd.cut(customer_reorders[\"reorder_percentage\"], bins = bins, labels = labels, include_lowest = True)\n"
   ]
  },
  {
   "cell_type": "code",
   "execution_count": null,
   "metadata": {},
   "outputs": [],
   "source": [
    "# Groupby reorder bins to get count of customers in each bin \n",
    "reorder_dist = customer_reorders[\"reorder_bin\"].value_counts().sort_index().reset_index()\n",
    "reorder_dist.columns = [\"Reorder Percentage\", \"Customer Count\"]\n",
    "reorder_dist"
   ]
  },
  {
   "cell_type": "code",
   "execution_count": null,
   "metadata": {},
   "outputs": [],
   "source": [
    "# Create bar plot to visualize percentage of reorders by customers \n",
    "fig = px.bar(reorder_dist, \n",
    "             x = \"Reorder Percentage\",\n",
    "             y = \"Customer Count\",\n",
    "             title = \"Customer Loyalty: Percentage of Reorders by Customers\", \n",
    "             labels = {\"Customer Count\": \"Number of Customers\", \"Reorder Percentage\": \"Reorder Percentage Range\"},\n",
    "             color_discrete_sequence = [\"#88AB75\"])\n",
    "\n",
    "fig.show()"
   ]
  },
  {
   "cell_type": "code",
   "execution_count": null,
   "metadata": {},
   "outputs": [],
   "source": []
  }
 ],
 "metadata": {
  "kernelspec": {
   "display_name": "base_clone",
   "language": "python",
   "name": "python3"
  },
  "language_info": {
   "codemirror_mode": {
    "name": "ipython",
    "version": 3
   },
   "file_extension": ".py",
   "mimetype": "text/x-python",
   "name": "python",
   "nbconvert_exporter": "python",
   "pygments_lexer": "ipython3",
   "version": "3.11.5"
  }
 },
 "nbformat": 4,
 "nbformat_minor": 2
}
