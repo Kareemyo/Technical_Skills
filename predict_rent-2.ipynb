{
 "cells": [
  {
   "cell_type": "markdown",
   "metadata": {},
   "source": [
    "# Predict Rent Prices\n",
    "\n",
    "The dataset we have obtained is from StreetEasy and contains the median rent prices over the last 14 years. We will work with the dataset to predict rent prices over set time periods. "
   ]
  },
  {
   "cell_type": "code",
   "execution_count": 1,
   "metadata": {},
   "outputs": [],
   "source": [
    "# Import packages \n",
    "import os \n",
    "import pandas as pd"
   ]
  },
  {
   "cell_type": "code",
   "execution_count": null,
   "metadata": {},
   "outputs": [],
   "source": [
    "# Load data \n",
    "data = pd.read_csv(r\"medianAskingRent_All.csv\")"
   ]
  },
  {
   "cell_type": "code",
   "execution_count": 12,
   "metadata": {},
   "outputs": [
    {
     "data": {
      "text/plain": [
       "(198, 180)"
      ]
     },
     "execution_count": 12,
     "metadata": {},
     "output_type": "execute_result"
    }
   ],
   "source": [
    "# Inspect data \n",
    "data.head()\n",
    "\n",
    "# View number of rows and columns\n",
    "data.shape"
   ]
  },
  {
   "cell_type": "markdown",
   "metadata": {},
   "source": [
    "Taking a look at the first few rows of data, we need to perform a few transformation to feed the data into a model. We will need to reshape the data into a time series format by making the date the index and the rent values the target variable."
   ]
  },
  {
   "cell_type": "code",
   "execution_count": 13,
   "metadata": {},
   "outputs": [
    {
     "data": {
      "text/html": [
       "<div>\n",
       "<style scoped>\n",
       "    .dataframe tbody tr th:only-of-type {\n",
       "        vertical-align: middle;\n",
       "    }\n",
       "\n",
       "    .dataframe tbody tr th {\n",
       "        vertical-align: top;\n",
       "    }\n",
       "\n",
       "    .dataframe thead th {\n",
       "        text-align: right;\n",
       "    }\n",
       "</style>\n",
       "<table border=\"1\" class=\"dataframe\">\n",
       "  <thead>\n",
       "    <tr style=\"text-align: right;\">\n",
       "      <th></th>\n",
       "      <th>Average Rent</th>\n",
       "    </tr>\n",
       "    <tr>\n",
       "      <th>Date</th>\n",
       "      <th></th>\n",
       "    </tr>\n",
       "  </thead>\n",
       "  <tbody>\n",
       "    <tr>\n",
       "      <th>2010-01-01</th>\n",
       "      <td>2306.102273</td>\n",
       "    </tr>\n",
       "    <tr>\n",
       "      <th>2010-02-01</th>\n",
       "      <td>2257.144444</td>\n",
       "    </tr>\n",
       "    <tr>\n",
       "      <th>2010-03-01</th>\n",
       "      <td>2248.873563</td>\n",
       "    </tr>\n",
       "    <tr>\n",
       "      <th>2010-04-01</th>\n",
       "      <td>2275.090909</td>\n",
       "    </tr>\n",
       "    <tr>\n",
       "      <th>2010-05-01</th>\n",
       "      <td>2328.843373</td>\n",
       "    </tr>\n",
       "  </tbody>\n",
       "</table>\n",
       "</div>"
      ],
      "text/plain": [
       "            Average Rent\n",
       "Date                    \n",
       "2010-01-01   2306.102273\n",
       "2010-02-01   2257.144444\n",
       "2010-03-01   2248.873563\n",
       "2010-04-01   2275.090909\n",
       "2010-05-01   2328.843373"
      ]
     },
     "execution_count": 13,
     "metadata": {},
     "output_type": "execute_result"
    }
   ],
   "source": [
    "# Data transformation \n",
    "# Calculate average rent data across all areas in NYC for each month \n",
    "\n",
    "# We will exclude the first three columns because they are categorical \n",
    "average_rent_data = data.iloc[:, 3:].mean(axis = 0).reset_index()\n",
    "\n",
    "# Rename columns \n",
    "average_rent_data.columns = [\"Date\", \"Average Rent\"]\n",
    "average_rent_data[\"Date\"] = pd.to_datetime(average_rent_data[\"Date\"], format = \"%Y-%m\")\n",
    "\n",
    "# Sort by date \n",
    "average_rent_data = average_rent_data.sort_values(by = \"Date\").set_index(\"Date\")\n",
    "\n",
    "# Display newly transformed data\n",
    "average_rent_data.head()"
   ]
  },
  {
   "cell_type": "markdown",
   "metadata": {},
   "source": [
    "A summary of the steps performed: \n",
    "\n",
    "- Calculate monthly average rent: exclude categorical columns (areaName, Borough, areaType) and calculate mean across all rows for each month. This gives the average rent for each month\n",
    "- Rename columns for clarity \n",
    "- Convert date column to a datetime format to set up the data from time series analysis\n",
    "- Sort and set index: sort the data by date and set the date column as the index to obtain a time series structure"
   ]
  },
  {
   "cell_type": "markdown",
   "metadata": {},
   "source": [
    "### Next step\n",
    "\n",
    "The next step is to begin creating **lagged features** which allows for the model to use past rent values as a predictor for future rent values. Once the the features are created, we can train a model to predict future prices. "
   ]
  },
  {
   "cell_type": "markdown",
   "metadata": {},
   "source": [
    "##### What is a lagged feature? \n",
    "\n",
    "They are variables created from past values in a time series dataset to help predict future values. In time series forecasting, they are useful because they allow a model to consider previous data points as predictors, helping it understand patterns or dependencies over time.\n",
    "\n",
    " - *Capture Temporal Patterns*: They help capture the time-based relationships in the data, like trends and seasonality\n",
    "- *Enable Supervised Learning*: By transforming a time series into a supervised learning format, you can apply machine learning algorithms that aren’t inherently designed for sequential data"
   ]
  },
  {
   "cell_type": "code",
   "execution_count": 14,
   "metadata": {},
   "outputs": [
    {
     "data": {
      "text/html": [
       "<div>\n",
       "<style scoped>\n",
       "    .dataframe tbody tr th:only-of-type {\n",
       "        vertical-align: middle;\n",
       "    }\n",
       "\n",
       "    .dataframe tbody tr th {\n",
       "        vertical-align: top;\n",
       "    }\n",
       "\n",
       "    .dataframe thead th {\n",
       "        text-align: right;\n",
       "    }\n",
       "</style>\n",
       "<table border=\"1\" class=\"dataframe\">\n",
       "  <thead>\n",
       "    <tr style=\"text-align: right;\">\n",
       "      <th></th>\n",
       "      <th>Average Rent</th>\n",
       "      <th>rent_t-1</th>\n",
       "      <th>rent_t-2</th>\n",
       "      <th>rent_t-3</th>\n",
       "      <th>rent_t-4</th>\n",
       "      <th>rent_t-5</th>\n",
       "      <th>rent_t-6</th>\n",
       "      <th>rent_t-7</th>\n",
       "      <th>rent_t-8</th>\n",
       "      <th>rent_t-9</th>\n",
       "      <th>rent_t-10</th>\n",
       "      <th>rent_t-11</th>\n",
       "      <th>rent_t-12</th>\n",
       "    </tr>\n",
       "    <tr>\n",
       "      <th>Date</th>\n",
       "      <th></th>\n",
       "      <th></th>\n",
       "      <th></th>\n",
       "      <th></th>\n",
       "      <th></th>\n",
       "      <th></th>\n",
       "      <th></th>\n",
       "      <th></th>\n",
       "      <th></th>\n",
       "      <th></th>\n",
       "      <th></th>\n",
       "      <th></th>\n",
       "      <th></th>\n",
       "    </tr>\n",
       "  </thead>\n",
       "  <tbody>\n",
       "    <tr>\n",
       "      <th>2011-01-01</th>\n",
       "      <td>2403.897727</td>\n",
       "      <td>2386.755556</td>\n",
       "      <td>2440.666667</td>\n",
       "      <td>2508.258824</td>\n",
       "      <td>2562.569620</td>\n",
       "      <td>2419.146341</td>\n",
       "      <td>2391.876543</td>\n",
       "      <td>2329.476190</td>\n",
       "      <td>2328.843373</td>\n",
       "      <td>2275.090909</td>\n",
       "      <td>2248.873563</td>\n",
       "      <td>2257.144444</td>\n",
       "      <td>2306.102273</td>\n",
       "    </tr>\n",
       "    <tr>\n",
       "      <th>2011-02-01</th>\n",
       "      <td>2372.119565</td>\n",
       "      <td>2403.897727</td>\n",
       "      <td>2386.755556</td>\n",
       "      <td>2440.666667</td>\n",
       "      <td>2508.258824</td>\n",
       "      <td>2562.569620</td>\n",
       "      <td>2419.146341</td>\n",
       "      <td>2391.876543</td>\n",
       "      <td>2329.476190</td>\n",
       "      <td>2328.843373</td>\n",
       "      <td>2275.090909</td>\n",
       "      <td>2248.873563</td>\n",
       "      <td>2257.144444</td>\n",
       "    </tr>\n",
       "    <tr>\n",
       "      <th>2011-03-01</th>\n",
       "      <td>2339.765957</td>\n",
       "      <td>2372.119565</td>\n",
       "      <td>2403.897727</td>\n",
       "      <td>2386.755556</td>\n",
       "      <td>2440.666667</td>\n",
       "      <td>2508.258824</td>\n",
       "      <td>2562.569620</td>\n",
       "      <td>2419.146341</td>\n",
       "      <td>2391.876543</td>\n",
       "      <td>2329.476190</td>\n",
       "      <td>2328.843373</td>\n",
       "      <td>2275.090909</td>\n",
       "      <td>2248.873563</td>\n",
       "    </tr>\n",
       "    <tr>\n",
       "      <th>2011-04-01</th>\n",
       "      <td>2366.691489</td>\n",
       "      <td>2339.765957</td>\n",
       "      <td>2372.119565</td>\n",
       "      <td>2403.897727</td>\n",
       "      <td>2386.755556</td>\n",
       "      <td>2440.666667</td>\n",
       "      <td>2508.258824</td>\n",
       "      <td>2562.569620</td>\n",
       "      <td>2419.146341</td>\n",
       "      <td>2391.876543</td>\n",
       "      <td>2329.476190</td>\n",
       "      <td>2328.843373</td>\n",
       "      <td>2275.090909</td>\n",
       "    </tr>\n",
       "    <tr>\n",
       "      <th>2011-05-01</th>\n",
       "      <td>2382.305263</td>\n",
       "      <td>2366.691489</td>\n",
       "      <td>2339.765957</td>\n",
       "      <td>2372.119565</td>\n",
       "      <td>2403.897727</td>\n",
       "      <td>2386.755556</td>\n",
       "      <td>2440.666667</td>\n",
       "      <td>2508.258824</td>\n",
       "      <td>2562.569620</td>\n",
       "      <td>2419.146341</td>\n",
       "      <td>2391.876543</td>\n",
       "      <td>2329.476190</td>\n",
       "      <td>2328.843373</td>\n",
       "    </tr>\n",
       "  </tbody>\n",
       "</table>\n",
       "</div>"
      ],
      "text/plain": [
       "            Average Rent     rent_t-1     rent_t-2     rent_t-3     rent_t-4  \\\n",
       "Date                                                                           \n",
       "2011-01-01   2403.897727  2386.755556  2440.666667  2508.258824  2562.569620   \n",
       "2011-02-01   2372.119565  2403.897727  2386.755556  2440.666667  2508.258824   \n",
       "2011-03-01   2339.765957  2372.119565  2403.897727  2386.755556  2440.666667   \n",
       "2011-04-01   2366.691489  2339.765957  2372.119565  2403.897727  2386.755556   \n",
       "2011-05-01   2382.305263  2366.691489  2339.765957  2372.119565  2403.897727   \n",
       "\n",
       "               rent_t-5     rent_t-6     rent_t-7     rent_t-8     rent_t-9  \\\n",
       "Date                                                                          \n",
       "2011-01-01  2419.146341  2391.876543  2329.476190  2328.843373  2275.090909   \n",
       "2011-02-01  2562.569620  2419.146341  2391.876543  2329.476190  2328.843373   \n",
       "2011-03-01  2508.258824  2562.569620  2419.146341  2391.876543  2329.476190   \n",
       "2011-04-01  2440.666667  2508.258824  2562.569620  2419.146341  2391.876543   \n",
       "2011-05-01  2386.755556  2440.666667  2508.258824  2562.569620  2419.146341   \n",
       "\n",
       "              rent_t-10    rent_t-11    rent_t-12  \n",
       "Date                                               \n",
       "2011-01-01  2248.873563  2257.144444  2306.102273  \n",
       "2011-02-01  2275.090909  2248.873563  2257.144444  \n",
       "2011-03-01  2328.843373  2275.090909  2248.873563  \n",
       "2011-04-01  2329.476190  2328.843373  2275.090909  \n",
       "2011-05-01  2391.876543  2329.476190  2328.843373  "
      ]
     },
     "execution_count": 14,
     "metadata": {},
     "output_type": "execute_result"
    }
   ],
   "source": [
    "# We want 12 months of lagged data \n",
    "lag_number = 12 \n",
    "\n",
    "# Create the lag features using a for loop\n",
    "for lag in range(1, lag_number + 1):\n",
    "    average_rent_data[f\"rent_t-{lag}\"] = average_rent_data[\"Average Rent\"].shift(lag)\n",
    "    \n",
    "# Drop rows with NaN values \n",
    "average_rent_data = average_rent_data.dropna() \n",
    "\n",
    "# # Display data \n",
    "average_rent_data.head()"
   ]
  },
  {
   "cell_type": "markdown",
   "metadata": {},
   "source": [
    "Before we perform any predictions, let's perform some EDA to get a better understanding of our data and trends in rent prices. "
   ]
  },
  {
   "cell_type": "code",
   "execution_count": 15,
   "metadata": {},
   "outputs": [
    {
     "data": {
      "application/vnd.plotly.v1+json": {
       "config": {
        "plotlyServerURL": "https://plot.ly"
       },
       "data": [
        {
         "mode": "lines",
         "name": "Average Rent",
         "type": "scatter",
         "x": [
          "2011-01-01T00:00:00",
          "2011-02-01T00:00:00",
          "2011-03-01T00:00:00",
          "2011-04-01T00:00:00",
          "2011-05-01T00:00:00",
          "2011-06-01T00:00:00",
          "2011-07-01T00:00:00",
          "2011-08-01T00:00:00",
          "2011-09-01T00:00:00",
          "2011-10-01T00:00:00",
          "2011-11-01T00:00:00",
          "2011-12-01T00:00:00",
          "2012-01-01T00:00:00",
          "2012-02-01T00:00:00",
          "2012-03-01T00:00:00",
          "2012-04-01T00:00:00",
          "2012-05-01T00:00:00",
          "2012-06-01T00:00:00",
          "2012-07-01T00:00:00",
          "2012-08-01T00:00:00",
          "2012-09-01T00:00:00",
          "2012-10-01T00:00:00",
          "2012-11-01T00:00:00",
          "2012-12-01T00:00:00",
          "2013-01-01T00:00:00",
          "2013-02-01T00:00:00",
          "2013-03-01T00:00:00",
          "2013-04-01T00:00:00",
          "2013-05-01T00:00:00",
          "2013-06-01T00:00:00",
          "2013-07-01T00:00:00",
          "2013-08-01T00:00:00",
          "2013-09-01T00:00:00",
          "2013-10-01T00:00:00",
          "2013-11-01T00:00:00",
          "2013-12-01T00:00:00",
          "2014-01-01T00:00:00",
          "2014-02-01T00:00:00",
          "2014-03-01T00:00:00",
          "2014-04-01T00:00:00",
          "2014-05-01T00:00:00",
          "2014-06-01T00:00:00",
          "2014-07-01T00:00:00",
          "2014-08-01T00:00:00",
          "2014-09-01T00:00:00",
          "2014-10-01T00:00:00",
          "2014-11-01T00:00:00",
          "2014-12-01T00:00:00",
          "2015-01-01T00:00:00",
          "2015-02-01T00:00:00",
          "2015-03-01T00:00:00",
          "2015-04-01T00:00:00",
          "2015-05-01T00:00:00",
          "2015-06-01T00:00:00",
          "2015-07-01T00:00:00",
          "2015-08-01T00:00:00",
          "2015-09-01T00:00:00",
          "2015-10-01T00:00:00",
          "2015-11-01T00:00:00",
          "2015-12-01T00:00:00",
          "2016-01-01T00:00:00",
          "2016-02-01T00:00:00",
          "2016-03-01T00:00:00",
          "2016-04-01T00:00:00",
          "2016-05-01T00:00:00",
          "2016-06-01T00:00:00",
          "2016-07-01T00:00:00",
          "2016-08-01T00:00:00",
          "2016-09-01T00:00:00",
          "2016-10-01T00:00:00",
          "2016-11-01T00:00:00",
          "2016-12-01T00:00:00",
          "2017-01-01T00:00:00",
          "2017-02-01T00:00:00",
          "2017-03-01T00:00:00",
          "2017-04-01T00:00:00",
          "2017-05-01T00:00:00",
          "2017-06-01T00:00:00",
          "2017-07-01T00:00:00",
          "2017-08-01T00:00:00",
          "2017-09-01T00:00:00",
          "2017-10-01T00:00:00",
          "2017-11-01T00:00:00",
          "2017-12-01T00:00:00",
          "2018-01-01T00:00:00",
          "2018-02-01T00:00:00",
          "2018-03-01T00:00:00",
          "2018-04-01T00:00:00",
          "2018-05-01T00:00:00",
          "2018-06-01T00:00:00",
          "2018-07-01T00:00:00",
          "2018-08-01T00:00:00",
          "2018-09-01T00:00:00",
          "2018-10-01T00:00:00",
          "2018-11-01T00:00:00",
          "2018-12-01T00:00:00",
          "2019-01-01T00:00:00",
          "2019-02-01T00:00:00",
          "2019-03-01T00:00:00",
          "2019-04-01T00:00:00",
          "2019-05-01T00:00:00",
          "2019-06-01T00:00:00",
          "2019-07-01T00:00:00",
          "2019-08-01T00:00:00",
          "2019-09-01T00:00:00",
          "2019-10-01T00:00:00",
          "2019-11-01T00:00:00",
          "2019-12-01T00:00:00",
          "2020-01-01T00:00:00",
          "2020-02-01T00:00:00",
          "2020-03-01T00:00:00",
          "2020-04-01T00:00:00",
          "2020-05-01T00:00:00",
          "2020-06-01T00:00:00",
          "2020-07-01T00:00:00",
          "2020-08-01T00:00:00",
          "2020-09-01T00:00:00",
          "2020-10-01T00:00:00",
          "2020-11-01T00:00:00",
          "2020-12-01T00:00:00",
          "2021-01-01T00:00:00",
          "2021-02-01T00:00:00",
          "2021-03-01T00:00:00",
          "2021-04-01T00:00:00",
          "2021-05-01T00:00:00",
          "2021-06-01T00:00:00",
          "2021-07-01T00:00:00",
          "2021-08-01T00:00:00",
          "2021-09-01T00:00:00",
          "2021-10-01T00:00:00",
          "2021-11-01T00:00:00",
          "2021-12-01T00:00:00",
          "2022-01-01T00:00:00",
          "2022-02-01T00:00:00",
          "2022-03-01T00:00:00",
          "2022-04-01T00:00:00",
          "2022-05-01T00:00:00",
          "2022-06-01T00:00:00",
          "2022-07-01T00:00:00",
          "2022-08-01T00:00:00",
          "2022-09-01T00:00:00",
          "2022-10-01T00:00:00",
          "2022-11-01T00:00:00",
          "2022-12-01T00:00:00",
          "2023-01-01T00:00:00",
          "2023-02-01T00:00:00",
          "2023-03-01T00:00:00",
          "2023-04-01T00:00:00",
          "2023-05-01T00:00:00",
          "2023-06-01T00:00:00",
          "2023-07-01T00:00:00",
          "2023-08-01T00:00:00",
          "2023-09-01T00:00:00",
          "2023-10-01T00:00:00",
          "2023-11-01T00:00:00",
          "2023-12-01T00:00:00",
          "2024-01-01T00:00:00",
          "2024-02-01T00:00:00",
          "2024-03-01T00:00:00",
          "2024-04-01T00:00:00",
          "2024-05-01T00:00:00",
          "2024-06-01T00:00:00",
          "2024-07-01T00:00:00",
          "2024-08-01T00:00:00",
          "2024-09-01T00:00:00"
         ],
         "y": [
          2403.8977272727275,
          2372.1195652173915,
          2339.7659574468084,
          2366.691489361702,
          2382.305263157895,
          2345.826530612245,
          2402.3368421052633,
          2419.020618556701,
          2510.559139784946,
          2504.7340425531916,
          2489.2061855670104,
          2528.188888888889,
          2524.228260869565,
          2532.1702127659573,
          2509.7395833333335,
          2590.5824175824177,
          2549.09375,
          2499.818181818182,
          2518.4950495049507,
          2524.9126213592235,
          2541.6960784313724,
          2539.730769230769,
          2536.2596153846152,
          2567.5686274509803,
          2485.552380952381,
          2474.8396226415093,
          2469.4761904761904,
          2471.0825688073396,
          2510.735849056604,
          2519.657142857143,
          2489.293577981651,
          2512.185185185185,
          2511.9189189189187,
          2449.0619469026547,
          2421.709401709402,
          2477.327272727273,
          2444.245614035088,
          2412.9224137931033,
          2419.7179487179487,
          2448.8706896551726,
          2494.217391304348,
          2497.1206896551726,
          2420.0967741935483,
          2445.6774193548385,
          2418.752,
          2405.8046875,
          2371.310606060606,
          2348.9632352941176,
          2346.6569343065694,
          2391.503759398496,
          2380.197080291971,
          2392.323529411765,
          2425.5289855072465,
          2418.1642857142856,
          2451.1323529411766,
          2496.9477611940297,
          2479.514705882353,
          2459.5755395683454,
          2463.5971223021584,
          2471.6014492753625,
          2452.695652173913,
          2468.5,
          2491.5555555555557,
          2538.507575757576,
          2575.0814814814817,
          2594.5153846153844,
          2598.7480916030536,
          2572.2014925373132,
          2567.544117647059,
          2519.093525179856,
          2515.608695652174,
          2509.0289855072465,
          2478.5704225352115,
          2469.744827586207,
          2472.846153846154,
          2485.8251748251746,
          2478.7671232876714,
          2486.8344370860927,
          2496.0967741935483,
          2516.93661971831,
          2528.1185185185186,
          2484.6428571428573,
          2455.7801418439717,
          2489.8962962962964,
          2469.165467625899,
          2495.6277372262775,
          2511.705882352941,
          2532.68115942029,
          2527.4084507042253,
          2564.1338028169016,
          2567.1027397260273,
          2566.198675496689,
          2564.9594594594596,
          2538.722972972973,
          2533.612244897959,
          2525.5234899328857,
          2511.62,
          2529.0137931034483,
          2537.055172413793,
          2539.9527027027025,
          2598.151724137931,
          2618.3513513513512,
          2650.11724137931,
          2653.5793103448277,
          2666.806896551724,
          2673.426573426573,
          2690.9858156028367,
          2685.6496350364964,
          2645.784722222222,
          2677.9357142857143,
          2717.0073529411766,
          2741.731707317073,
          2651.3560606060605,
          2593.1037037037036,
          2558.455882352941,
          2455.9795918367345,
          2447.782608695652,
          2398.5785714285716,
          2379.6099290780144,
          2367.0942028985505,
          2345.492957746479,
          2346,
          2336.4295774647885,
          2370.758865248227,
          2431.5208333333335,
          2476.1063829787236,
          2535.751724137931,
          2615.965277777778,
          2685.848275862069,
          2719.7762237762236,
          2735.7094594594596,
          2809.4452554744526,
          2795.097222222222,
          2832.1678321678323,
          2849.78231292517,
          2942.689655172414,
          3016.744827586207,
          3121.6666666666665,
          3147.3356164383563,
          3135.4662162162163,
          3152.376712328767,
          3148.746575342466,
          3105.1610738255035,
          3101.972972972973,
          3118.5763888888887,
          3157.096551724138,
          3119.973154362416,
          3184.448275862069,
          3188.02,
          3259.678082191781,
          3307.4609929078015,
          3312.781690140845,
          3361.7062937062938,
          3298.7916666666665,
          3254.944827586207,
          3236.5034965034965,
          3291.7714285714287,
          3329.214285714286,
          3292.891156462585,
          3368.785714285714,
          3408.148936170213,
          3415.4671532846714,
          3453.338129496403,
          3409.432624113475,
          3426.1617647058824
         ]
        }
       ],
       "layout": {
        "template": {
         "data": {
          "bar": [
           {
            "error_x": {
             "color": "#2a3f5f"
            },
            "error_y": {
             "color": "#2a3f5f"
            },
            "marker": {
             "line": {
              "color": "white",
              "width": 0.5
             },
             "pattern": {
              "fillmode": "overlay",
              "size": 10,
              "solidity": 0.2
             }
            },
            "type": "bar"
           }
          ],
          "barpolar": [
           {
            "marker": {
             "line": {
              "color": "white",
              "width": 0.5
             },
             "pattern": {
              "fillmode": "overlay",
              "size": 10,
              "solidity": 0.2
             }
            },
            "type": "barpolar"
           }
          ],
          "carpet": [
           {
            "aaxis": {
             "endlinecolor": "#2a3f5f",
             "gridcolor": "#C8D4E3",
             "linecolor": "#C8D4E3",
             "minorgridcolor": "#C8D4E3",
             "startlinecolor": "#2a3f5f"
            },
            "baxis": {
             "endlinecolor": "#2a3f5f",
             "gridcolor": "#C8D4E3",
             "linecolor": "#C8D4E3",
             "minorgridcolor": "#C8D4E3",
             "startlinecolor": "#2a3f5f"
            },
            "type": "carpet"
           }
          ],
          "choropleth": [
           {
            "colorbar": {
             "outlinewidth": 0,
             "ticks": ""
            },
            "type": "choropleth"
           }
          ],
          "contour": [
           {
            "colorbar": {
             "outlinewidth": 0,
             "ticks": ""
            },
            "colorscale": [
             [
              0,
              "#0d0887"
             ],
             [
              0.1111111111111111,
              "#46039f"
             ],
             [
              0.2222222222222222,
              "#7201a8"
             ],
             [
              0.3333333333333333,
              "#9c179e"
             ],
             [
              0.4444444444444444,
              "#bd3786"
             ],
             [
              0.5555555555555556,
              "#d8576b"
             ],
             [
              0.6666666666666666,
              "#ed7953"
             ],
             [
              0.7777777777777778,
              "#fb9f3a"
             ],
             [
              0.8888888888888888,
              "#fdca26"
             ],
             [
              1,
              "#f0f921"
             ]
            ],
            "type": "contour"
           }
          ],
          "contourcarpet": [
           {
            "colorbar": {
             "outlinewidth": 0,
             "ticks": ""
            },
            "type": "contourcarpet"
           }
          ],
          "heatmap": [
           {
            "colorbar": {
             "outlinewidth": 0,
             "ticks": ""
            },
            "colorscale": [
             [
              0,
              "#0d0887"
             ],
             [
              0.1111111111111111,
              "#46039f"
             ],
             [
              0.2222222222222222,
              "#7201a8"
             ],
             [
              0.3333333333333333,
              "#9c179e"
             ],
             [
              0.4444444444444444,
              "#bd3786"
             ],
             [
              0.5555555555555556,
              "#d8576b"
             ],
             [
              0.6666666666666666,
              "#ed7953"
             ],
             [
              0.7777777777777778,
              "#fb9f3a"
             ],
             [
              0.8888888888888888,
              "#fdca26"
             ],
             [
              1,
              "#f0f921"
             ]
            ],
            "type": "heatmap"
           }
          ],
          "heatmapgl": [
           {
            "colorbar": {
             "outlinewidth": 0,
             "ticks": ""
            },
            "colorscale": [
             [
              0,
              "#0d0887"
             ],
             [
              0.1111111111111111,
              "#46039f"
             ],
             [
              0.2222222222222222,
              "#7201a8"
             ],
             [
              0.3333333333333333,
              "#9c179e"
             ],
             [
              0.4444444444444444,
              "#bd3786"
             ],
             [
              0.5555555555555556,
              "#d8576b"
             ],
             [
              0.6666666666666666,
              "#ed7953"
             ],
             [
              0.7777777777777778,
              "#fb9f3a"
             ],
             [
              0.8888888888888888,
              "#fdca26"
             ],
             [
              1,
              "#f0f921"
             ]
            ],
            "type": "heatmapgl"
           }
          ],
          "histogram": [
           {
            "marker": {
             "pattern": {
              "fillmode": "overlay",
              "size": 10,
              "solidity": 0.2
             }
            },
            "type": "histogram"
           }
          ],
          "histogram2d": [
           {
            "colorbar": {
             "outlinewidth": 0,
             "ticks": ""
            },
            "colorscale": [
             [
              0,
              "#0d0887"
             ],
             [
              0.1111111111111111,
              "#46039f"
             ],
             [
              0.2222222222222222,
              "#7201a8"
             ],
             [
              0.3333333333333333,
              "#9c179e"
             ],
             [
              0.4444444444444444,
              "#bd3786"
             ],
             [
              0.5555555555555556,
              "#d8576b"
             ],
             [
              0.6666666666666666,
              "#ed7953"
             ],
             [
              0.7777777777777778,
              "#fb9f3a"
             ],
             [
              0.8888888888888888,
              "#fdca26"
             ],
             [
              1,
              "#f0f921"
             ]
            ],
            "type": "histogram2d"
           }
          ],
          "histogram2dcontour": [
           {
            "colorbar": {
             "outlinewidth": 0,
             "ticks": ""
            },
            "colorscale": [
             [
              0,
              "#0d0887"
             ],
             [
              0.1111111111111111,
              "#46039f"
             ],
             [
              0.2222222222222222,
              "#7201a8"
             ],
             [
              0.3333333333333333,
              "#9c179e"
             ],
             [
              0.4444444444444444,
              "#bd3786"
             ],
             [
              0.5555555555555556,
              "#d8576b"
             ],
             [
              0.6666666666666666,
              "#ed7953"
             ],
             [
              0.7777777777777778,
              "#fb9f3a"
             ],
             [
              0.8888888888888888,
              "#fdca26"
             ],
             [
              1,
              "#f0f921"
             ]
            ],
            "type": "histogram2dcontour"
           }
          ],
          "mesh3d": [
           {
            "colorbar": {
             "outlinewidth": 0,
             "ticks": ""
            },
            "type": "mesh3d"
           }
          ],
          "parcoords": [
           {
            "line": {
             "colorbar": {
              "outlinewidth": 0,
              "ticks": ""
             }
            },
            "type": "parcoords"
           }
          ],
          "pie": [
           {
            "automargin": true,
            "type": "pie"
           }
          ],
          "scatter": [
           {
            "fillpattern": {
             "fillmode": "overlay",
             "size": 10,
             "solidity": 0.2
            },
            "type": "scatter"
           }
          ],
          "scatter3d": [
           {
            "line": {
             "colorbar": {
              "outlinewidth": 0,
              "ticks": ""
             }
            },
            "marker": {
             "colorbar": {
              "outlinewidth": 0,
              "ticks": ""
             }
            },
            "type": "scatter3d"
           }
          ],
          "scattercarpet": [
           {
            "marker": {
             "colorbar": {
              "outlinewidth": 0,
              "ticks": ""
             }
            },
            "type": "scattercarpet"
           }
          ],
          "scattergeo": [
           {
            "marker": {
             "colorbar": {
              "outlinewidth": 0,
              "ticks": ""
             }
            },
            "type": "scattergeo"
           }
          ],
          "scattergl": [
           {
            "marker": {
             "colorbar": {
              "outlinewidth": 0,
              "ticks": ""
             }
            },
            "type": "scattergl"
           }
          ],
          "scattermapbox": [
           {
            "marker": {
             "colorbar": {
              "outlinewidth": 0,
              "ticks": ""
             }
            },
            "type": "scattermapbox"
           }
          ],
          "scatterpolar": [
           {
            "marker": {
             "colorbar": {
              "outlinewidth": 0,
              "ticks": ""
             }
            },
            "type": "scatterpolar"
           }
          ],
          "scatterpolargl": [
           {
            "marker": {
             "colorbar": {
              "outlinewidth": 0,
              "ticks": ""
             }
            },
            "type": "scatterpolargl"
           }
          ],
          "scatterternary": [
           {
            "marker": {
             "colorbar": {
              "outlinewidth": 0,
              "ticks": ""
             }
            },
            "type": "scatterternary"
           }
          ],
          "surface": [
           {
            "colorbar": {
             "outlinewidth": 0,
             "ticks": ""
            },
            "colorscale": [
             [
              0,
              "#0d0887"
             ],
             [
              0.1111111111111111,
              "#46039f"
             ],
             [
              0.2222222222222222,
              "#7201a8"
             ],
             [
              0.3333333333333333,
              "#9c179e"
             ],
             [
              0.4444444444444444,
              "#bd3786"
             ],
             [
              0.5555555555555556,
              "#d8576b"
             ],
             [
              0.6666666666666666,
              "#ed7953"
             ],
             [
              0.7777777777777778,
              "#fb9f3a"
             ],
             [
              0.8888888888888888,
              "#fdca26"
             ],
             [
              1,
              "#f0f921"
             ]
            ],
            "type": "surface"
           }
          ],
          "table": [
           {
            "cells": {
             "fill": {
              "color": "#EBF0F8"
             },
             "line": {
              "color": "white"
             }
            },
            "header": {
             "fill": {
              "color": "#C8D4E3"
             },
             "line": {
              "color": "white"
             }
            },
            "type": "table"
           }
          ]
         },
         "layout": {
          "annotationdefaults": {
           "arrowcolor": "#2a3f5f",
           "arrowhead": 0,
           "arrowwidth": 1
          },
          "autotypenumbers": "strict",
          "coloraxis": {
           "colorbar": {
            "outlinewidth": 0,
            "ticks": ""
           }
          },
          "colorscale": {
           "diverging": [
            [
             0,
             "#8e0152"
            ],
            [
             0.1,
             "#c51b7d"
            ],
            [
             0.2,
             "#de77ae"
            ],
            [
             0.3,
             "#f1b6da"
            ],
            [
             0.4,
             "#fde0ef"
            ],
            [
             0.5,
             "#f7f7f7"
            ],
            [
             0.6,
             "#e6f5d0"
            ],
            [
             0.7,
             "#b8e186"
            ],
            [
             0.8,
             "#7fbc41"
            ],
            [
             0.9,
             "#4d9221"
            ],
            [
             1,
             "#276419"
            ]
           ],
           "sequential": [
            [
             0,
             "#0d0887"
            ],
            [
             0.1111111111111111,
             "#46039f"
            ],
            [
             0.2222222222222222,
             "#7201a8"
            ],
            [
             0.3333333333333333,
             "#9c179e"
            ],
            [
             0.4444444444444444,
             "#bd3786"
            ],
            [
             0.5555555555555556,
             "#d8576b"
            ],
            [
             0.6666666666666666,
             "#ed7953"
            ],
            [
             0.7777777777777778,
             "#fb9f3a"
            ],
            [
             0.8888888888888888,
             "#fdca26"
            ],
            [
             1,
             "#f0f921"
            ]
           ],
           "sequentialminus": [
            [
             0,
             "#0d0887"
            ],
            [
             0.1111111111111111,
             "#46039f"
            ],
            [
             0.2222222222222222,
             "#7201a8"
            ],
            [
             0.3333333333333333,
             "#9c179e"
            ],
            [
             0.4444444444444444,
             "#bd3786"
            ],
            [
             0.5555555555555556,
             "#d8576b"
            ],
            [
             0.6666666666666666,
             "#ed7953"
            ],
            [
             0.7777777777777778,
             "#fb9f3a"
            ],
            [
             0.8888888888888888,
             "#fdca26"
            ],
            [
             1,
             "#f0f921"
            ]
           ]
          },
          "colorway": [
           "#636efa",
           "#EF553B",
           "#00cc96",
           "#ab63fa",
           "#FFA15A",
           "#19d3f3",
           "#FF6692",
           "#B6E880",
           "#FF97FF",
           "#FECB52"
          ],
          "font": {
           "color": "#2a3f5f"
          },
          "geo": {
           "bgcolor": "white",
           "lakecolor": "white",
           "landcolor": "white",
           "showlakes": true,
           "showland": true,
           "subunitcolor": "#C8D4E3"
          },
          "hoverlabel": {
           "align": "left"
          },
          "hovermode": "closest",
          "mapbox": {
           "style": "light"
          },
          "paper_bgcolor": "white",
          "plot_bgcolor": "white",
          "polar": {
           "angularaxis": {
            "gridcolor": "#EBF0F8",
            "linecolor": "#EBF0F8",
            "ticks": ""
           },
           "bgcolor": "white",
           "radialaxis": {
            "gridcolor": "#EBF0F8",
            "linecolor": "#EBF0F8",
            "ticks": ""
           }
          },
          "scene": {
           "xaxis": {
            "backgroundcolor": "white",
            "gridcolor": "#DFE8F3",
            "gridwidth": 2,
            "linecolor": "#EBF0F8",
            "showbackground": true,
            "ticks": "",
            "zerolinecolor": "#EBF0F8"
           },
           "yaxis": {
            "backgroundcolor": "white",
            "gridcolor": "#DFE8F3",
            "gridwidth": 2,
            "linecolor": "#EBF0F8",
            "showbackground": true,
            "ticks": "",
            "zerolinecolor": "#EBF0F8"
           },
           "zaxis": {
            "backgroundcolor": "white",
            "gridcolor": "#DFE8F3",
            "gridwidth": 2,
            "linecolor": "#EBF0F8",
            "showbackground": true,
            "ticks": "",
            "zerolinecolor": "#EBF0F8"
           }
          },
          "shapedefaults": {
           "line": {
            "color": "#2a3f5f"
           }
          },
          "ternary": {
           "aaxis": {
            "gridcolor": "#DFE8F3",
            "linecolor": "#A2B1C6",
            "ticks": ""
           },
           "baxis": {
            "gridcolor": "#DFE8F3",
            "linecolor": "#A2B1C6",
            "ticks": ""
           },
           "bgcolor": "white",
           "caxis": {
            "gridcolor": "#DFE8F3",
            "linecolor": "#A2B1C6",
            "ticks": ""
           }
          },
          "title": {
           "x": 0.05
          },
          "xaxis": {
           "automargin": true,
           "gridcolor": "#EBF0F8",
           "linecolor": "#EBF0F8",
           "ticks": "",
           "title": {
            "standoff": 15
           },
           "zerolinecolor": "#EBF0F8",
           "zerolinewidth": 2
          },
          "yaxis": {
           "automargin": true,
           "gridcolor": "#EBF0F8",
           "linecolor": "#EBF0F8",
           "ticks": "",
           "title": {
            "standoff": 15
           },
           "zerolinecolor": "#EBF0F8",
           "zerolinewidth": 2
          }
         }
        },
        "title": {
         "text": "Average Rent Over Time (2010 - 2024)"
        },
        "xaxis": {
         "title": {
          "text": "Date"
         }
        },
        "yaxis": {
         "title": {
          "text": "Average Rent"
         }
        }
       }
      }
     },
     "metadata": {},
     "output_type": "display_data"
    }
   ],
   "source": [
    "# Import visualization library \n",
    "import plotly.graph_objects as go \n",
    "\n",
    "# Create our canvas \n",
    "fig = go.Figure()\n",
    "\n",
    "# Create the plot itself on the canvas \n",
    "fig.add_trace(go.Scatter(x = average_rent_data.index, \n",
    "                         y = average_rent_data[\"Average Rent\"],\n",
    "                         mode = \"lines\", \n",
    "                         name = \"Average Rent\"))\n",
    "\n",
    "fig.update_layout(title = \"Average Rent Over Time (2010 - 2024)\",\n",
    "                  xaxis_title = \"Date\", \n",
    "                  yaxis_title = \"Average Rent\",\n",
    "                  template = \"plotly_white\")\n",
    "\n",
    "fig.show()"
   ]
  },
  {
   "cell_type": "markdown",
   "metadata": {},
   "source": [
    "What are some insights we can get obtain from the plot? \n",
    "\n",
    "Next, we will also look at the summary statistics for the data. "
   ]
  },
  {
   "cell_type": "code",
   "execution_count": 16,
   "metadata": {},
   "outputs": [
    {
     "data": {
      "text/plain": [
       "count     165.000000\n",
       "mean     2643.530593\n",
       "std       300.674673\n",
       "min      2336.429577\n",
       "25%      2468.500000\n",
       "50%      2524.228261\n",
       "75%      2677.935714\n",
       "max      3453.338129\n",
       "Name: Average Rent, dtype: float64"
      ]
     },
     "execution_count": 16,
     "metadata": {},
     "output_type": "execute_result"
    }
   ],
   "source": [
    "summary = average_rent_data[\"Average Rent\"].describe()\n",
    "summary"
   ]
  },
  {
   "cell_type": "markdown",
   "metadata": {},
   "source": [
    "- Mean rent: $2,643\n",
    "- Median rent: $2,524\n",
    "- Standard deviation: $300 (some variation around the mean)\n",
    "- Range: minimum rent is $2,336 and maximum is $3,453 with a 75% percentile value of $2,677. This suggests that rent has increased over the years, but hasn't fluctuated too much. \n",
    "\n",
    "Let's continue with the predictions using the Random Forest Regressor model"
   ]
  },
  {
   "cell_type": "markdown",
   "metadata": {},
   "source": [
    "##### Random Forest Regressor\n",
    "\n",
    "- Supervised learning model \n",
    "- Good for our predictions because:\n",
    "    - it handles nonlinear relationships well\n",
    "    - it works well with structured data\n",
    "    - it is robust to overfitting with enough data\n",
    "    - it can give good performance with minimal hyperparameter tuning\n",
    "    - it can give information on which features are heavily weighted when predicting prices\n",
    "\n",
    "Some considerations: \n",
    "- Lack of Time Awareness: Random forests don’t inherently understand time dependencies; that’s why we manually create lagged features. However, if trends are captured well through these features, a random forest can model the data effectively\n",
    "- Computationally Intensive: Random forests require more computational power than simpler models like linear regression, but for a moderate-sized dataset, this is manageable"
   ]
  },
  {
   "cell_type": "code",
   "execution_count": 18,
   "metadata": {},
   "outputs": [],
   "source": [
    "# Import packages for model predictions \n",
    "from sklearn.ensemble import RandomForestRegressor\n",
    "from sklearn.model_selection import train_test_split\n",
    "from sklearn.metrics import mean_absolute_error, mean_squared_error\n",
    "import numpy as np"
   ]
  },
  {
   "cell_type": "code",
   "execution_count": 20,
   "metadata": {},
   "outputs": [],
   "source": [
    "# Input features and target variable definition \n",
    "X = average_rent_data.drop(columns = [\"Average Rent\"])\n",
    "y = average_rent_data[\"Average Rent\"]"
   ]
  },
  {
   "cell_type": "markdown",
   "metadata": {},
   "source": [
    "The typical train_test_split method to split the data into training and testing variables may not necessarily work for the approach we are trying to go for (using preivous rent prices to predict new prices). \n",
    "\n",
    "Since train_test_split can disrupt the temporal order of our data, we will use time-based splitting to create the train and test variables. We will train on the **earliest data** and test on the **most recent data**. "
   ]
  },
  {
   "cell_type": "code",
   "execution_count": 25,
   "metadata": {},
   "outputs": [
    {
     "name": "stdout",
     "output_type": "stream",
     "text": [
      "Mean absolute error: $141.71\n",
      "Root mean squared error: $171.38\n"
     ]
    }
   ],
   "source": [
    "# We will use the last 24 months as the test set (last 1-2 years)\n",
    "split_index = -24\n",
    "X_train, X_test = X[:split_index], X[split_index:]\n",
    "y_train, y_test = y[:split_index], y[split_index:]\n",
    "\n",
    "# Initialize and train the model\n",
    "model = RandomForestRegressor(random_state = 42)\n",
    "model.fit(X_train, y_train)\n",
    "\n",
    "# Predict on the test set\n",
    "y_pred = model.predict(X_test)\n",
    "\n",
    "# Evaluate model performance\n",
    "mae = mean_absolute_error(y_test, y_pred)\n",
    "rmse = np.sqrt(mean_squared_error(y_test, y_pred))\n",
    "\n",
    "print(f\"Mean absolute error: ${mae:.2f}\")\n",
    "print(f\"Root mean squared error: ${rmse:.2f}\")"
   ]
  },
  {
   "cell_type": "markdown",
   "metadata": {},
   "source": [
    "- MAE: tells us the average dollar amount the predictions deviate from actual rent prices\n",
    "- RMSE: measures the average magnitude of error between the predicted values and the actual values, with a stronger emphasis on larger errors due to squaring. RMSE tells us how far, on average, our predictions are from the actual rent prices in dollar terms\n",
    "    - since the average rent is around $2,643, an rmse of $171, is about 6.5% of the average rent\n",
    "    - having an RMSE under 10% of the target value is generally good"
   ]
  },
  {
   "cell_type": "markdown",
   "metadata": {},
   "source": [
    "Next, we will use the model to predict rent prices for the next 2-3 years using an iterative forecasting approach. \n",
    "\n",
    "- set up conditions: start with the last available data point and use the model to predict the next month's rent \n",
    "- iterate for each month: use each new prediction as input for the following month \n",
    "- store predictions: store each prediction to track the forecasted rent prices over time "
   ]
  },
  {
   "cell_type": "code",
   "execution_count": 26,
   "metadata": {},
   "outputs": [],
   "source": [
    "# Import packages \n",
    "import datetime \n",
    "\n",
    "# Get the last available data point to generate a prediction for the next 3 years (36 months)\n",
    "forecast_horizon = 36 \n",
    "last_date = average_rent_data.index[-1] # Last date in the dataframe \n",
    "future_predictions = []\n",
    "# Select the last row of data from X (the final month in historical data) \n",
    "# This is the starting point for forecasting the next month \n",
    "# Extract the row as a NumPy array to make it compatible with the model's input requirements\n",
    "# Reshape the array into a 2D array with 1 row and multiple columns \n",
    "# -1 automatically determines the appropriate number of columns based on the number of elements\n",
    "current_features = X.iloc[-1].values.reshape(1, -1)"
   ]
  },
  {
   "cell_type": "code",
   "execution_count": 27,
   "metadata": {},
   "outputs": [
    {
     "name": "stderr",
     "output_type": "stream",
     "text": [
      "/Users/umreenimam/anaconda3/envs/base_clone/lib/python3.11/site-packages/sklearn/base.py:464: UserWarning:\n",
      "\n",
      "X does not have valid feature names, but RandomForestRegressor was fitted with feature names\n",
      "\n",
      "/Users/umreenimam/anaconda3/envs/base_clone/lib/python3.11/site-packages/sklearn/base.py:464: UserWarning:\n",
      "\n",
      "X does not have valid feature names, but RandomForestRegressor was fitted with feature names\n",
      "\n",
      "/Users/umreenimam/anaconda3/envs/base_clone/lib/python3.11/site-packages/sklearn/base.py:464: UserWarning:\n",
      "\n",
      "X does not have valid feature names, but RandomForestRegressor was fitted with feature names\n",
      "\n",
      "/Users/umreenimam/anaconda3/envs/base_clone/lib/python3.11/site-packages/sklearn/base.py:464: UserWarning:\n",
      "\n",
      "X does not have valid feature names, but RandomForestRegressor was fitted with feature names\n",
      "\n",
      "/Users/umreenimam/anaconda3/envs/base_clone/lib/python3.11/site-packages/sklearn/base.py:464: UserWarning:\n",
      "\n",
      "X does not have valid feature names, but RandomForestRegressor was fitted with feature names\n",
      "\n",
      "/Users/umreenimam/anaconda3/envs/base_clone/lib/python3.11/site-packages/sklearn/base.py:464: UserWarning:\n",
      "\n",
      "X does not have valid feature names, but RandomForestRegressor was fitted with feature names\n",
      "\n",
      "/Users/umreenimam/anaconda3/envs/base_clone/lib/python3.11/site-packages/sklearn/base.py:464: UserWarning:\n",
      "\n",
      "X does not have valid feature names, but RandomForestRegressor was fitted with feature names\n",
      "\n",
      "/Users/umreenimam/anaconda3/envs/base_clone/lib/python3.11/site-packages/sklearn/base.py:464: UserWarning:\n",
      "\n",
      "X does not have valid feature names, but RandomForestRegressor was fitted with feature names\n",
      "\n",
      "/Users/umreenimam/anaconda3/envs/base_clone/lib/python3.11/site-packages/sklearn/base.py:464: UserWarning:\n",
      "\n",
      "X does not have valid feature names, but RandomForestRegressor was fitted with feature names\n",
      "\n",
      "/Users/umreenimam/anaconda3/envs/base_clone/lib/python3.11/site-packages/sklearn/base.py:464: UserWarning:\n",
      "\n",
      "X does not have valid feature names, but RandomForestRegressor was fitted with feature names\n",
      "\n",
      "/Users/umreenimam/anaconda3/envs/base_clone/lib/python3.11/site-packages/sklearn/base.py:464: UserWarning:\n",
      "\n",
      "X does not have valid feature names, but RandomForestRegressor was fitted with feature names\n",
      "\n",
      "/Users/umreenimam/anaconda3/envs/base_clone/lib/python3.11/site-packages/sklearn/base.py:464: UserWarning:\n",
      "\n",
      "X does not have valid feature names, but RandomForestRegressor was fitted with feature names\n",
      "\n",
      "/Users/umreenimam/anaconda3/envs/base_clone/lib/python3.11/site-packages/sklearn/base.py:464: UserWarning:\n",
      "\n",
      "X does not have valid feature names, but RandomForestRegressor was fitted with feature names\n",
      "\n",
      "/Users/umreenimam/anaconda3/envs/base_clone/lib/python3.11/site-packages/sklearn/base.py:464: UserWarning:\n",
      "\n",
      "X does not have valid feature names, but RandomForestRegressor was fitted with feature names\n",
      "\n",
      "/Users/umreenimam/anaconda3/envs/base_clone/lib/python3.11/site-packages/sklearn/base.py:464: UserWarning:\n",
      "\n",
      "X does not have valid feature names, but RandomForestRegressor was fitted with feature names\n",
      "\n",
      "/Users/umreenimam/anaconda3/envs/base_clone/lib/python3.11/site-packages/sklearn/base.py:464: UserWarning:\n",
      "\n",
      "X does not have valid feature names, but RandomForestRegressor was fitted with feature names\n",
      "\n",
      "/Users/umreenimam/anaconda3/envs/base_clone/lib/python3.11/site-packages/sklearn/base.py:464: UserWarning:\n",
      "\n",
      "X does not have valid feature names, but RandomForestRegressor was fitted with feature names\n",
      "\n",
      "/Users/umreenimam/anaconda3/envs/base_clone/lib/python3.11/site-packages/sklearn/base.py:464: UserWarning:\n",
      "\n",
      "X does not have valid feature names, but RandomForestRegressor was fitted with feature names\n",
      "\n",
      "/Users/umreenimam/anaconda3/envs/base_clone/lib/python3.11/site-packages/sklearn/base.py:464: UserWarning:\n",
      "\n",
      "X does not have valid feature names, but RandomForestRegressor was fitted with feature names\n",
      "\n",
      "/Users/umreenimam/anaconda3/envs/base_clone/lib/python3.11/site-packages/sklearn/base.py:464: UserWarning:\n",
      "\n",
      "X does not have valid feature names, but RandomForestRegressor was fitted with feature names\n",
      "\n",
      "/Users/umreenimam/anaconda3/envs/base_clone/lib/python3.11/site-packages/sklearn/base.py:464: UserWarning:\n",
      "\n",
      "X does not have valid feature names, but RandomForestRegressor was fitted with feature names\n",
      "\n",
      "/Users/umreenimam/anaconda3/envs/base_clone/lib/python3.11/site-packages/sklearn/base.py:464: UserWarning:\n",
      "\n",
      "X does not have valid feature names, but RandomForestRegressor was fitted with feature names\n",
      "\n",
      "/Users/umreenimam/anaconda3/envs/base_clone/lib/python3.11/site-packages/sklearn/base.py:464: UserWarning:\n",
      "\n",
      "X does not have valid feature names, but RandomForestRegressor was fitted with feature names\n",
      "\n",
      "/Users/umreenimam/anaconda3/envs/base_clone/lib/python3.11/site-packages/sklearn/base.py:464: UserWarning:\n",
      "\n",
      "X does not have valid feature names, but RandomForestRegressor was fitted with feature names\n",
      "\n",
      "/Users/umreenimam/anaconda3/envs/base_clone/lib/python3.11/site-packages/sklearn/base.py:464: UserWarning:\n",
      "\n",
      "X does not have valid feature names, but RandomForestRegressor was fitted with feature names\n",
      "\n",
      "/Users/umreenimam/anaconda3/envs/base_clone/lib/python3.11/site-packages/sklearn/base.py:464: UserWarning:\n",
      "\n",
      "X does not have valid feature names, but RandomForestRegressor was fitted with feature names\n",
      "\n",
      "/Users/umreenimam/anaconda3/envs/base_clone/lib/python3.11/site-packages/sklearn/base.py:464: UserWarning:\n",
      "\n",
      "X does not have valid feature names, but RandomForestRegressor was fitted with feature names\n",
      "\n",
      "/Users/umreenimam/anaconda3/envs/base_clone/lib/python3.11/site-packages/sklearn/base.py:464: UserWarning:\n",
      "\n",
      "X does not have valid feature names, but RandomForestRegressor was fitted with feature names\n",
      "\n",
      "/Users/umreenimam/anaconda3/envs/base_clone/lib/python3.11/site-packages/sklearn/base.py:464: UserWarning:\n",
      "\n",
      "X does not have valid feature names, but RandomForestRegressor was fitted with feature names\n",
      "\n",
      "/Users/umreenimam/anaconda3/envs/base_clone/lib/python3.11/site-packages/sklearn/base.py:464: UserWarning:\n",
      "\n",
      "X does not have valid feature names, but RandomForestRegressor was fitted with feature names\n",
      "\n",
      "/Users/umreenimam/anaconda3/envs/base_clone/lib/python3.11/site-packages/sklearn/base.py:464: UserWarning:\n",
      "\n",
      "X does not have valid feature names, but RandomForestRegressor was fitted with feature names\n",
      "\n",
      "/Users/umreenimam/anaconda3/envs/base_clone/lib/python3.11/site-packages/sklearn/base.py:464: UserWarning:\n",
      "\n",
      "X does not have valid feature names, but RandomForestRegressor was fitted with feature names\n",
      "\n",
      "/Users/umreenimam/anaconda3/envs/base_clone/lib/python3.11/site-packages/sklearn/base.py:464: UserWarning:\n",
      "\n",
      "X does not have valid feature names, but RandomForestRegressor was fitted with feature names\n",
      "\n",
      "/Users/umreenimam/anaconda3/envs/base_clone/lib/python3.11/site-packages/sklearn/base.py:464: UserWarning:\n",
      "\n",
      "X does not have valid feature names, but RandomForestRegressor was fitted with feature names\n",
      "\n",
      "/Users/umreenimam/anaconda3/envs/base_clone/lib/python3.11/site-packages/sklearn/base.py:464: UserWarning:\n",
      "\n",
      "X does not have valid feature names, but RandomForestRegressor was fitted with feature names\n",
      "\n",
      "/Users/umreenimam/anaconda3/envs/base_clone/lib/python3.11/site-packages/sklearn/base.py:464: UserWarning:\n",
      "\n",
      "X does not have valid feature names, but RandomForestRegressor was fitted with feature names\n",
      "\n"
     ]
    }
   ],
   "source": [
    "# 1. Using the previous month’s input features to make a new prediction\n",
    "# 2. Updating the features by adding the new prediction and removing the oldest lagged value\n",
    "\n",
    "# Iterate and predict one month at a time\n",
    "for i in range(forecast_horizon):\n",
    "    # Predict rent price \n",
    "    next_rent = model.predict(current_features)[0]\n",
    "    future_predictions.append(next_rent)\n",
    "    \n",
    "    # Update features by shifting and adding the new prediction as the most recent lag\n",
    "    # Take current features, drop the oldest lagged value\n",
    "    # Convert remaining values to a list \n",
    "    # Add the new prediction to the end of the list to ensure that the most recent month's prediction becomes the newest input for the model\n",
    "    current_features = current_features[0][1:].tolist() + [next_rent] \n",
    "    # Convert updated list back to a 2D numpy array to keep it compatible \n",
    "    current_features = np.array(current_features).reshape(1, -1)"
   ]
  },
  {
   "cell_type": "code",
   "execution_count": 32,
   "metadata": {},
   "outputs": [
    {
     "data": {
      "text/html": [
       "<div>\n",
       "<style scoped>\n",
       "    .dataframe tbody tr th:only-of-type {\n",
       "        vertical-align: middle;\n",
       "    }\n",
       "\n",
       "    .dataframe tbody tr th {\n",
       "        vertical-align: top;\n",
       "    }\n",
       "\n",
       "    .dataframe thead th {\n",
       "        text-align: right;\n",
       "    }\n",
       "</style>\n",
       "<table border=\"1\" class=\"dataframe\">\n",
       "  <thead>\n",
       "    <tr style=\"text-align: right;\">\n",
       "      <th></th>\n",
       "      <th>Predicted Rent</th>\n",
       "    </tr>\n",
       "    <tr>\n",
       "      <th>Date</th>\n",
       "      <th></th>\n",
       "    </tr>\n",
       "  </thead>\n",
       "  <tbody>\n",
       "    <tr>\n",
       "      <th>2024-10-01</th>\n",
       "      <td>3141.161973</td>\n",
       "    </tr>\n",
       "    <tr>\n",
       "      <th>2024-10-31</th>\n",
       "      <td>3141.161973</td>\n",
       "    </tr>\n",
       "    <tr>\n",
       "      <th>2024-11-30</th>\n",
       "      <td>3141.161973</td>\n",
       "    </tr>\n",
       "    <tr>\n",
       "      <th>2024-12-30</th>\n",
       "      <td>3141.161973</td>\n",
       "    </tr>\n",
       "    <tr>\n",
       "      <th>2025-01-29</th>\n",
       "      <td>3141.161973</td>\n",
       "    </tr>\n",
       "  </tbody>\n",
       "</table>\n",
       "</div>"
      ],
      "text/plain": [
       "            Predicted Rent\n",
       "Date                      \n",
       "2024-10-01     3141.161973\n",
       "2024-10-31     3141.161973\n",
       "2024-11-30     3141.161973\n",
       "2024-12-30     3141.161973\n",
       "2025-01-29     3141.161973"
      ]
     },
     "execution_count": 32,
     "metadata": {},
     "output_type": "execute_result"
    }
   ],
   "source": [
    "# Create dates for the forecasted values \n",
    "future_dates = [last_date + datetime.timedelta(days = 30 * (i + 1)) for i in range(forecast_horizon)]\n",
    "\n",
    "# Convert to a dataframe \n",
    "future_price_df = pd.DataFrame({\"Date\": future_dates, \"Predicted Rent\": future_predictions})\n",
    "future_price_df.set_index(\"Date\", inplace = True)\n",
    "\n",
    "# Display predicted rent for the next 2-3 years \n",
    "future_price_df.head()"
   ]
  },
  {
   "cell_type": "markdown",
   "metadata": {},
   "source": [
    "- **Starting rent (Oct. 2024)**: $3,141.16\n",
    "- **Ending rent (Aug. 2027)**: $3,141.33\n",
    "\n",
    "Our model predicted relatively stable values over time. This may indicate that the model is capturing steady trends and not large seasonal variations. Let's take a look at how the predictions stack up against the historical data we have. "
   ]
  },
  {
   "cell_type": "code",
   "execution_count": 38,
   "metadata": {},
   "outputs": [
    {
     "data": {
      "application/vnd.plotly.v1+json": {
       "config": {
        "plotlyServerURL": "https://plot.ly"
       },
       "data": [
        {
         "line": {
          "color": "blue"
         },
         "mode": "lines",
         "name": "Historical Data",
         "type": "scatter",
         "x": [
          "2011-01-01T00:00:00",
          "2011-02-01T00:00:00",
          "2011-03-01T00:00:00",
          "2011-04-01T00:00:00",
          "2011-05-01T00:00:00",
          "2011-06-01T00:00:00",
          "2011-07-01T00:00:00",
          "2011-08-01T00:00:00",
          "2011-09-01T00:00:00",
          "2011-10-01T00:00:00",
          "2011-11-01T00:00:00",
          "2011-12-01T00:00:00",
          "2012-01-01T00:00:00",
          "2012-02-01T00:00:00",
          "2012-03-01T00:00:00",
          "2012-04-01T00:00:00",
          "2012-05-01T00:00:00",
          "2012-06-01T00:00:00",
          "2012-07-01T00:00:00",
          "2012-08-01T00:00:00",
          "2012-09-01T00:00:00",
          "2012-10-01T00:00:00",
          "2012-11-01T00:00:00",
          "2012-12-01T00:00:00",
          "2013-01-01T00:00:00",
          "2013-02-01T00:00:00",
          "2013-03-01T00:00:00",
          "2013-04-01T00:00:00",
          "2013-05-01T00:00:00",
          "2013-06-01T00:00:00",
          "2013-07-01T00:00:00",
          "2013-08-01T00:00:00",
          "2013-09-01T00:00:00",
          "2013-10-01T00:00:00",
          "2013-11-01T00:00:00",
          "2013-12-01T00:00:00",
          "2014-01-01T00:00:00",
          "2014-02-01T00:00:00",
          "2014-03-01T00:00:00",
          "2014-04-01T00:00:00",
          "2014-05-01T00:00:00",
          "2014-06-01T00:00:00",
          "2014-07-01T00:00:00",
          "2014-08-01T00:00:00",
          "2014-09-01T00:00:00",
          "2014-10-01T00:00:00",
          "2014-11-01T00:00:00",
          "2014-12-01T00:00:00",
          "2015-01-01T00:00:00",
          "2015-02-01T00:00:00",
          "2015-03-01T00:00:00",
          "2015-04-01T00:00:00",
          "2015-05-01T00:00:00",
          "2015-06-01T00:00:00",
          "2015-07-01T00:00:00",
          "2015-08-01T00:00:00",
          "2015-09-01T00:00:00",
          "2015-10-01T00:00:00",
          "2015-11-01T00:00:00",
          "2015-12-01T00:00:00",
          "2016-01-01T00:00:00",
          "2016-02-01T00:00:00",
          "2016-03-01T00:00:00",
          "2016-04-01T00:00:00",
          "2016-05-01T00:00:00",
          "2016-06-01T00:00:00",
          "2016-07-01T00:00:00",
          "2016-08-01T00:00:00",
          "2016-09-01T00:00:00",
          "2016-10-01T00:00:00",
          "2016-11-01T00:00:00",
          "2016-12-01T00:00:00",
          "2017-01-01T00:00:00",
          "2017-02-01T00:00:00",
          "2017-03-01T00:00:00",
          "2017-04-01T00:00:00",
          "2017-05-01T00:00:00",
          "2017-06-01T00:00:00",
          "2017-07-01T00:00:00",
          "2017-08-01T00:00:00",
          "2017-09-01T00:00:00",
          "2017-10-01T00:00:00",
          "2017-11-01T00:00:00",
          "2017-12-01T00:00:00",
          "2018-01-01T00:00:00",
          "2018-02-01T00:00:00",
          "2018-03-01T00:00:00",
          "2018-04-01T00:00:00",
          "2018-05-01T00:00:00",
          "2018-06-01T00:00:00",
          "2018-07-01T00:00:00",
          "2018-08-01T00:00:00",
          "2018-09-01T00:00:00",
          "2018-10-01T00:00:00",
          "2018-11-01T00:00:00",
          "2018-12-01T00:00:00",
          "2019-01-01T00:00:00",
          "2019-02-01T00:00:00",
          "2019-03-01T00:00:00",
          "2019-04-01T00:00:00",
          "2019-05-01T00:00:00",
          "2019-06-01T00:00:00",
          "2019-07-01T00:00:00",
          "2019-08-01T00:00:00",
          "2019-09-01T00:00:00",
          "2019-10-01T00:00:00",
          "2019-11-01T00:00:00",
          "2019-12-01T00:00:00",
          "2020-01-01T00:00:00",
          "2020-02-01T00:00:00",
          "2020-03-01T00:00:00",
          "2020-04-01T00:00:00",
          "2020-05-01T00:00:00",
          "2020-06-01T00:00:00",
          "2020-07-01T00:00:00",
          "2020-08-01T00:00:00",
          "2020-09-01T00:00:00",
          "2020-10-01T00:00:00",
          "2020-11-01T00:00:00",
          "2020-12-01T00:00:00",
          "2021-01-01T00:00:00",
          "2021-02-01T00:00:00",
          "2021-03-01T00:00:00",
          "2021-04-01T00:00:00",
          "2021-05-01T00:00:00",
          "2021-06-01T00:00:00",
          "2021-07-01T00:00:00",
          "2021-08-01T00:00:00",
          "2021-09-01T00:00:00",
          "2021-10-01T00:00:00",
          "2021-11-01T00:00:00",
          "2021-12-01T00:00:00",
          "2022-01-01T00:00:00",
          "2022-02-01T00:00:00",
          "2022-03-01T00:00:00",
          "2022-04-01T00:00:00",
          "2022-05-01T00:00:00",
          "2022-06-01T00:00:00",
          "2022-07-01T00:00:00",
          "2022-08-01T00:00:00",
          "2022-09-01T00:00:00",
          "2022-10-01T00:00:00",
          "2022-11-01T00:00:00",
          "2022-12-01T00:00:00",
          "2023-01-01T00:00:00",
          "2023-02-01T00:00:00",
          "2023-03-01T00:00:00",
          "2023-04-01T00:00:00",
          "2023-05-01T00:00:00",
          "2023-06-01T00:00:00",
          "2023-07-01T00:00:00",
          "2023-08-01T00:00:00",
          "2023-09-01T00:00:00",
          "2023-10-01T00:00:00",
          "2023-11-01T00:00:00",
          "2023-12-01T00:00:00",
          "2024-01-01T00:00:00",
          "2024-02-01T00:00:00",
          "2024-03-01T00:00:00",
          "2024-04-01T00:00:00",
          "2024-05-01T00:00:00",
          "2024-06-01T00:00:00",
          "2024-07-01T00:00:00",
          "2024-08-01T00:00:00",
          "2024-09-01T00:00:00"
         ],
         "y": [
          2403.8977272727275,
          2372.1195652173915,
          2339.7659574468084,
          2366.691489361702,
          2382.305263157895,
          2345.826530612245,
          2402.3368421052633,
          2419.020618556701,
          2510.559139784946,
          2504.7340425531916,
          2489.2061855670104,
          2528.188888888889,
          2524.228260869565,
          2532.1702127659573,
          2509.7395833333335,
          2590.5824175824177,
          2549.09375,
          2499.818181818182,
          2518.4950495049507,
          2524.9126213592235,
          2541.6960784313724,
          2539.730769230769,
          2536.2596153846152,
          2567.5686274509803,
          2485.552380952381,
          2474.8396226415093,
          2469.4761904761904,
          2471.0825688073396,
          2510.735849056604,
          2519.657142857143,
          2489.293577981651,
          2512.185185185185,
          2511.9189189189187,
          2449.0619469026547,
          2421.709401709402,
          2477.327272727273,
          2444.245614035088,
          2412.9224137931033,
          2419.7179487179487,
          2448.8706896551726,
          2494.217391304348,
          2497.1206896551726,
          2420.0967741935483,
          2445.6774193548385,
          2418.752,
          2405.8046875,
          2371.310606060606,
          2348.9632352941176,
          2346.6569343065694,
          2391.503759398496,
          2380.197080291971,
          2392.323529411765,
          2425.5289855072465,
          2418.1642857142856,
          2451.1323529411766,
          2496.9477611940297,
          2479.514705882353,
          2459.5755395683454,
          2463.5971223021584,
          2471.6014492753625,
          2452.695652173913,
          2468.5,
          2491.5555555555557,
          2538.507575757576,
          2575.0814814814817,
          2594.5153846153844,
          2598.7480916030536,
          2572.2014925373132,
          2567.544117647059,
          2519.093525179856,
          2515.608695652174,
          2509.0289855072465,
          2478.5704225352115,
          2469.744827586207,
          2472.846153846154,
          2485.8251748251746,
          2478.7671232876714,
          2486.8344370860927,
          2496.0967741935483,
          2516.93661971831,
          2528.1185185185186,
          2484.6428571428573,
          2455.7801418439717,
          2489.8962962962964,
          2469.165467625899,
          2495.6277372262775,
          2511.705882352941,
          2532.68115942029,
          2527.4084507042253,
          2564.1338028169016,
          2567.1027397260273,
          2566.198675496689,
          2564.9594594594596,
          2538.722972972973,
          2533.612244897959,
          2525.5234899328857,
          2511.62,
          2529.0137931034483,
          2537.055172413793,
          2539.9527027027025,
          2598.151724137931,
          2618.3513513513512,
          2650.11724137931,
          2653.5793103448277,
          2666.806896551724,
          2673.426573426573,
          2690.9858156028367,
          2685.6496350364964,
          2645.784722222222,
          2677.9357142857143,
          2717.0073529411766,
          2741.731707317073,
          2651.3560606060605,
          2593.1037037037036,
          2558.455882352941,
          2455.9795918367345,
          2447.782608695652,
          2398.5785714285716,
          2379.6099290780144,
          2367.0942028985505,
          2345.492957746479,
          2346,
          2336.4295774647885,
          2370.758865248227,
          2431.5208333333335,
          2476.1063829787236,
          2535.751724137931,
          2615.965277777778,
          2685.848275862069,
          2719.7762237762236,
          2735.7094594594596,
          2809.4452554744526,
          2795.097222222222,
          2832.1678321678323,
          2849.78231292517,
          2942.689655172414,
          3016.744827586207,
          3121.6666666666665,
          3147.3356164383563,
          3135.4662162162163,
          3152.376712328767,
          3148.746575342466,
          3105.1610738255035,
          3101.972972972973,
          3118.5763888888887,
          3157.096551724138,
          3119.973154362416,
          3184.448275862069,
          3188.02,
          3259.678082191781,
          3307.4609929078015,
          3312.781690140845,
          3361.7062937062938,
          3298.7916666666665,
          3254.944827586207,
          3236.5034965034965,
          3291.7714285714287,
          3329.214285714286,
          3292.891156462585,
          3368.785714285714,
          3408.148936170213,
          3415.4671532846714,
          3453.338129496403,
          3409.432624113475,
          3426.1617647058824
         ]
        },
        {
         "line": {
          "color": "red",
          "dash": "dash"
         },
         "mode": "lines",
         "name": "Forecasted Rent Price",
         "type": "scatter",
         "x": [
          "2024-10-01T00:00:00",
          "2024-10-31T00:00:00",
          "2024-11-30T00:00:00",
          "2024-12-30T00:00:00",
          "2025-01-29T00:00:00",
          "2025-02-28T00:00:00",
          "2025-03-30T00:00:00",
          "2025-04-29T00:00:00",
          "2025-05-29T00:00:00",
          "2025-06-28T00:00:00",
          "2025-07-28T00:00:00",
          "2025-08-27T00:00:00",
          "2025-09-26T00:00:00",
          "2025-10-26T00:00:00",
          "2025-11-25T00:00:00",
          "2025-12-25T00:00:00",
          "2026-01-24T00:00:00",
          "2026-02-23T00:00:00",
          "2026-03-25T00:00:00",
          "2026-04-24T00:00:00",
          "2026-05-24T00:00:00",
          "2026-06-23T00:00:00",
          "2026-07-23T00:00:00",
          "2026-08-22T00:00:00",
          "2026-09-21T00:00:00",
          "2026-10-21T00:00:00",
          "2026-11-20T00:00:00",
          "2026-12-20T00:00:00",
          "2027-01-19T00:00:00",
          "2027-02-18T00:00:00",
          "2027-03-20T00:00:00",
          "2027-04-19T00:00:00",
          "2027-05-19T00:00:00",
          "2027-06-18T00:00:00",
          "2027-07-18T00:00:00",
          "2027-08-17T00:00:00"
         ],
         "y": [
          3141.1619726665685,
          3141.1619726665685,
          3141.1619726665685,
          3141.1619726665685,
          3141.1619726665685,
          3141.1619726665685,
          3141.1619726665685,
          3141.1619726665685,
          3141.1619726665685,
          3141.1619726665685,
          3141.1619726665685,
          3141.1619726665685,
          3141.331077627694,
          3141.331077627694,
          3141.331077627694,
          3141.331077627694,
          3141.331077627694,
          3141.331077627694,
          3141.331077627694,
          3141.331077627694,
          3141.331077627694,
          3141.331077627694,
          3141.331077627694,
          3141.331077627694,
          3141.331077627694,
          3141.331077627694,
          3141.331077627694,
          3141.331077627694,
          3141.331077627694,
          3141.331077627694,
          3141.331077627694,
          3141.331077627694,
          3141.331077627694,
          3141.331077627694,
          3141.331077627694,
          3141.331077627694
         ]
        }
       ],
       "layout": {
        "height": 600,
        "template": {
         "data": {
          "bar": [
           {
            "error_x": {
             "color": "#2a3f5f"
            },
            "error_y": {
             "color": "#2a3f5f"
            },
            "marker": {
             "line": {
              "color": "white",
              "width": 0.5
             },
             "pattern": {
              "fillmode": "overlay",
              "size": 10,
              "solidity": 0.2
             }
            },
            "type": "bar"
           }
          ],
          "barpolar": [
           {
            "marker": {
             "line": {
              "color": "white",
              "width": 0.5
             },
             "pattern": {
              "fillmode": "overlay",
              "size": 10,
              "solidity": 0.2
             }
            },
            "type": "barpolar"
           }
          ],
          "carpet": [
           {
            "aaxis": {
             "endlinecolor": "#2a3f5f",
             "gridcolor": "#C8D4E3",
             "linecolor": "#C8D4E3",
             "minorgridcolor": "#C8D4E3",
             "startlinecolor": "#2a3f5f"
            },
            "baxis": {
             "endlinecolor": "#2a3f5f",
             "gridcolor": "#C8D4E3",
             "linecolor": "#C8D4E3",
             "minorgridcolor": "#C8D4E3",
             "startlinecolor": "#2a3f5f"
            },
            "type": "carpet"
           }
          ],
          "choropleth": [
           {
            "colorbar": {
             "outlinewidth": 0,
             "ticks": ""
            },
            "type": "choropleth"
           }
          ],
          "contour": [
           {
            "colorbar": {
             "outlinewidth": 0,
             "ticks": ""
            },
            "colorscale": [
             [
              0,
              "#0d0887"
             ],
             [
              0.1111111111111111,
              "#46039f"
             ],
             [
              0.2222222222222222,
              "#7201a8"
             ],
             [
              0.3333333333333333,
              "#9c179e"
             ],
             [
              0.4444444444444444,
              "#bd3786"
             ],
             [
              0.5555555555555556,
              "#d8576b"
             ],
             [
              0.6666666666666666,
              "#ed7953"
             ],
             [
              0.7777777777777778,
              "#fb9f3a"
             ],
             [
              0.8888888888888888,
              "#fdca26"
             ],
             [
              1,
              "#f0f921"
             ]
            ],
            "type": "contour"
           }
          ],
          "contourcarpet": [
           {
            "colorbar": {
             "outlinewidth": 0,
             "ticks": ""
            },
            "type": "contourcarpet"
           }
          ],
          "heatmap": [
           {
            "colorbar": {
             "outlinewidth": 0,
             "ticks": ""
            },
            "colorscale": [
             [
              0,
              "#0d0887"
             ],
             [
              0.1111111111111111,
              "#46039f"
             ],
             [
              0.2222222222222222,
              "#7201a8"
             ],
             [
              0.3333333333333333,
              "#9c179e"
             ],
             [
              0.4444444444444444,
              "#bd3786"
             ],
             [
              0.5555555555555556,
              "#d8576b"
             ],
             [
              0.6666666666666666,
              "#ed7953"
             ],
             [
              0.7777777777777778,
              "#fb9f3a"
             ],
             [
              0.8888888888888888,
              "#fdca26"
             ],
             [
              1,
              "#f0f921"
             ]
            ],
            "type": "heatmap"
           }
          ],
          "heatmapgl": [
           {
            "colorbar": {
             "outlinewidth": 0,
             "ticks": ""
            },
            "colorscale": [
             [
              0,
              "#0d0887"
             ],
             [
              0.1111111111111111,
              "#46039f"
             ],
             [
              0.2222222222222222,
              "#7201a8"
             ],
             [
              0.3333333333333333,
              "#9c179e"
             ],
             [
              0.4444444444444444,
              "#bd3786"
             ],
             [
              0.5555555555555556,
              "#d8576b"
             ],
             [
              0.6666666666666666,
              "#ed7953"
             ],
             [
              0.7777777777777778,
              "#fb9f3a"
             ],
             [
              0.8888888888888888,
              "#fdca26"
             ],
             [
              1,
              "#f0f921"
             ]
            ],
            "type": "heatmapgl"
           }
          ],
          "histogram": [
           {
            "marker": {
             "pattern": {
              "fillmode": "overlay",
              "size": 10,
              "solidity": 0.2
             }
            },
            "type": "histogram"
           }
          ],
          "histogram2d": [
           {
            "colorbar": {
             "outlinewidth": 0,
             "ticks": ""
            },
            "colorscale": [
             [
              0,
              "#0d0887"
             ],
             [
              0.1111111111111111,
              "#46039f"
             ],
             [
              0.2222222222222222,
              "#7201a8"
             ],
             [
              0.3333333333333333,
              "#9c179e"
             ],
             [
              0.4444444444444444,
              "#bd3786"
             ],
             [
              0.5555555555555556,
              "#d8576b"
             ],
             [
              0.6666666666666666,
              "#ed7953"
             ],
             [
              0.7777777777777778,
              "#fb9f3a"
             ],
             [
              0.8888888888888888,
              "#fdca26"
             ],
             [
              1,
              "#f0f921"
             ]
            ],
            "type": "histogram2d"
           }
          ],
          "histogram2dcontour": [
           {
            "colorbar": {
             "outlinewidth": 0,
             "ticks": ""
            },
            "colorscale": [
             [
              0,
              "#0d0887"
             ],
             [
              0.1111111111111111,
              "#46039f"
             ],
             [
              0.2222222222222222,
              "#7201a8"
             ],
             [
              0.3333333333333333,
              "#9c179e"
             ],
             [
              0.4444444444444444,
              "#bd3786"
             ],
             [
              0.5555555555555556,
              "#d8576b"
             ],
             [
              0.6666666666666666,
              "#ed7953"
             ],
             [
              0.7777777777777778,
              "#fb9f3a"
             ],
             [
              0.8888888888888888,
              "#fdca26"
             ],
             [
              1,
              "#f0f921"
             ]
            ],
            "type": "histogram2dcontour"
           }
          ],
          "mesh3d": [
           {
            "colorbar": {
             "outlinewidth": 0,
             "ticks": ""
            },
            "type": "mesh3d"
           }
          ],
          "parcoords": [
           {
            "line": {
             "colorbar": {
              "outlinewidth": 0,
              "ticks": ""
             }
            },
            "type": "parcoords"
           }
          ],
          "pie": [
           {
            "automargin": true,
            "type": "pie"
           }
          ],
          "scatter": [
           {
            "fillpattern": {
             "fillmode": "overlay",
             "size": 10,
             "solidity": 0.2
            },
            "type": "scatter"
           }
          ],
          "scatter3d": [
           {
            "line": {
             "colorbar": {
              "outlinewidth": 0,
              "ticks": ""
             }
            },
            "marker": {
             "colorbar": {
              "outlinewidth": 0,
              "ticks": ""
             }
            },
            "type": "scatter3d"
           }
          ],
          "scattercarpet": [
           {
            "marker": {
             "colorbar": {
              "outlinewidth": 0,
              "ticks": ""
             }
            },
            "type": "scattercarpet"
           }
          ],
          "scattergeo": [
           {
            "marker": {
             "colorbar": {
              "outlinewidth": 0,
              "ticks": ""
             }
            },
            "type": "scattergeo"
           }
          ],
          "scattergl": [
           {
            "marker": {
             "colorbar": {
              "outlinewidth": 0,
              "ticks": ""
             }
            },
            "type": "scattergl"
           }
          ],
          "scattermapbox": [
           {
            "marker": {
             "colorbar": {
              "outlinewidth": 0,
              "ticks": ""
             }
            },
            "type": "scattermapbox"
           }
          ],
          "scatterpolar": [
           {
            "marker": {
             "colorbar": {
              "outlinewidth": 0,
              "ticks": ""
             }
            },
            "type": "scatterpolar"
           }
          ],
          "scatterpolargl": [
           {
            "marker": {
             "colorbar": {
              "outlinewidth": 0,
              "ticks": ""
             }
            },
            "type": "scatterpolargl"
           }
          ],
          "scatterternary": [
           {
            "marker": {
             "colorbar": {
              "outlinewidth": 0,
              "ticks": ""
             }
            },
            "type": "scatterternary"
           }
          ],
          "surface": [
           {
            "colorbar": {
             "outlinewidth": 0,
             "ticks": ""
            },
            "colorscale": [
             [
              0,
              "#0d0887"
             ],
             [
              0.1111111111111111,
              "#46039f"
             ],
             [
              0.2222222222222222,
              "#7201a8"
             ],
             [
              0.3333333333333333,
              "#9c179e"
             ],
             [
              0.4444444444444444,
              "#bd3786"
             ],
             [
              0.5555555555555556,
              "#d8576b"
             ],
             [
              0.6666666666666666,
              "#ed7953"
             ],
             [
              0.7777777777777778,
              "#fb9f3a"
             ],
             [
              0.8888888888888888,
              "#fdca26"
             ],
             [
              1,
              "#f0f921"
             ]
            ],
            "type": "surface"
           }
          ],
          "table": [
           {
            "cells": {
             "fill": {
              "color": "#EBF0F8"
             },
             "line": {
              "color": "white"
             }
            },
            "header": {
             "fill": {
              "color": "#C8D4E3"
             },
             "line": {
              "color": "white"
             }
            },
            "type": "table"
           }
          ]
         },
         "layout": {
          "annotationdefaults": {
           "arrowcolor": "#2a3f5f",
           "arrowhead": 0,
           "arrowwidth": 1
          },
          "autotypenumbers": "strict",
          "coloraxis": {
           "colorbar": {
            "outlinewidth": 0,
            "ticks": ""
           }
          },
          "colorscale": {
           "diverging": [
            [
             0,
             "#8e0152"
            ],
            [
             0.1,
             "#c51b7d"
            ],
            [
             0.2,
             "#de77ae"
            ],
            [
             0.3,
             "#f1b6da"
            ],
            [
             0.4,
             "#fde0ef"
            ],
            [
             0.5,
             "#f7f7f7"
            ],
            [
             0.6,
             "#e6f5d0"
            ],
            [
             0.7,
             "#b8e186"
            ],
            [
             0.8,
             "#7fbc41"
            ],
            [
             0.9,
             "#4d9221"
            ],
            [
             1,
             "#276419"
            ]
           ],
           "sequential": [
            [
             0,
             "#0d0887"
            ],
            [
             0.1111111111111111,
             "#46039f"
            ],
            [
             0.2222222222222222,
             "#7201a8"
            ],
            [
             0.3333333333333333,
             "#9c179e"
            ],
            [
             0.4444444444444444,
             "#bd3786"
            ],
            [
             0.5555555555555556,
             "#d8576b"
            ],
            [
             0.6666666666666666,
             "#ed7953"
            ],
            [
             0.7777777777777778,
             "#fb9f3a"
            ],
            [
             0.8888888888888888,
             "#fdca26"
            ],
            [
             1,
             "#f0f921"
            ]
           ],
           "sequentialminus": [
            [
             0,
             "#0d0887"
            ],
            [
             0.1111111111111111,
             "#46039f"
            ],
            [
             0.2222222222222222,
             "#7201a8"
            ],
            [
             0.3333333333333333,
             "#9c179e"
            ],
            [
             0.4444444444444444,
             "#bd3786"
            ],
            [
             0.5555555555555556,
             "#d8576b"
            ],
            [
             0.6666666666666666,
             "#ed7953"
            ],
            [
             0.7777777777777778,
             "#fb9f3a"
            ],
            [
             0.8888888888888888,
             "#fdca26"
            ],
            [
             1,
             "#f0f921"
            ]
           ]
          },
          "colorway": [
           "#636efa",
           "#EF553B",
           "#00cc96",
           "#ab63fa",
           "#FFA15A",
           "#19d3f3",
           "#FF6692",
           "#B6E880",
           "#FF97FF",
           "#FECB52"
          ],
          "font": {
           "color": "#2a3f5f"
          },
          "geo": {
           "bgcolor": "white",
           "lakecolor": "white",
           "landcolor": "white",
           "showlakes": true,
           "showland": true,
           "subunitcolor": "#C8D4E3"
          },
          "hoverlabel": {
           "align": "left"
          },
          "hovermode": "closest",
          "mapbox": {
           "style": "light"
          },
          "paper_bgcolor": "white",
          "plot_bgcolor": "white",
          "polar": {
           "angularaxis": {
            "gridcolor": "#EBF0F8",
            "linecolor": "#EBF0F8",
            "ticks": ""
           },
           "bgcolor": "white",
           "radialaxis": {
            "gridcolor": "#EBF0F8",
            "linecolor": "#EBF0F8",
            "ticks": ""
           }
          },
          "scene": {
           "xaxis": {
            "backgroundcolor": "white",
            "gridcolor": "#DFE8F3",
            "gridwidth": 2,
            "linecolor": "#EBF0F8",
            "showbackground": true,
            "ticks": "",
            "zerolinecolor": "#EBF0F8"
           },
           "yaxis": {
            "backgroundcolor": "white",
            "gridcolor": "#DFE8F3",
            "gridwidth": 2,
            "linecolor": "#EBF0F8",
            "showbackground": true,
            "ticks": "",
            "zerolinecolor": "#EBF0F8"
           },
           "zaxis": {
            "backgroundcolor": "white",
            "gridcolor": "#DFE8F3",
            "gridwidth": 2,
            "linecolor": "#EBF0F8",
            "showbackground": true,
            "ticks": "",
            "zerolinecolor": "#EBF0F8"
           }
          },
          "shapedefaults": {
           "line": {
            "color": "#2a3f5f"
           }
          },
          "ternary": {
           "aaxis": {
            "gridcolor": "#DFE8F3",
            "linecolor": "#A2B1C6",
            "ticks": ""
           },
           "baxis": {
            "gridcolor": "#DFE8F3",
            "linecolor": "#A2B1C6",
            "ticks": ""
           },
           "bgcolor": "white",
           "caxis": {
            "gridcolor": "#DFE8F3",
            "linecolor": "#A2B1C6",
            "ticks": ""
           }
          },
          "title": {
           "x": 0.05
          },
          "xaxis": {
           "automargin": true,
           "gridcolor": "#EBF0F8",
           "linecolor": "#EBF0F8",
           "ticks": "",
           "title": {
            "standoff": 15
           },
           "zerolinecolor": "#EBF0F8",
           "zerolinewidth": 2
          },
          "yaxis": {
           "automargin": true,
           "gridcolor": "#EBF0F8",
           "linecolor": "#EBF0F8",
           "ticks": "",
           "title": {
            "standoff": 15
           },
           "zerolinecolor": "#EBF0F8",
           "zerolinewidth": 2
          }
         }
        },
        "title": {
         "text": "Historical and Forecasted Avg. Rent Prices in NYC"
        },
        "width": 1200,
        "xaxis": {
         "title": {
          "text": "Date"
         }
        },
        "yaxis": {
         "title": {
          "text": "Average Rent"
         }
        }
       }
      }
     },
     "metadata": {},
     "output_type": "display_data"
    }
   ],
   "source": [
    "# Create our canvas \n",
    "fig = go.Figure()\n",
    "\n",
    "# Plot the historical data \n",
    "fig.add_trace(go.Scatter(x = average_rent_data.index, \n",
    "                         y = average_rent_data[\"Average Rent\"],\n",
    "                         mode = \"lines\", \n",
    "                         name = \"Historical Data\", \n",
    "                         line = dict(color = \"blue\")))\n",
    "\n",
    "# Add the forecasted data\n",
    "fig.add_trace(go.Scatter(x = future_price_df.index,\n",
    "                         y = future_price_df[\"Predicted Rent\"],\n",
    "                         mode = \"lines\",\n",
    "                         name = \"Forecasted Rent Price\",\n",
    "                         line = dict(color = \"red\", dash = \"dash\")))\n",
    "# Update titles \n",
    "fig.update_layout(title = \"Historical and Forecasted Avg. Rent Prices in NYC\",\n",
    "                  xaxis_title = \"Date\", \n",
    "                  yaxis_title = \"Average Rent\", \n",
    "                  template = \"plotly_white\",\n",
    "                  width = 1200,\n",
    "                  height = 600)\n",
    "# Display plot \n",
    "fig.show()"
   ]
  },
  {
   "cell_type": "markdown",
   "metadata": {},
   "source": [
    "What are some things that you notice? How could we improve our model? "
   ]
  },
  {
   "cell_type": "code",
   "execution_count": null,
   "metadata": {},
   "outputs": [],
   "source": []
  }
 ],
 "metadata": {
  "kernelspec": {
   "display_name": "base_clone",
   "language": "python",
   "name": "python3"
  },
  "language_info": {
   "codemirror_mode": {
    "name": "ipython",
    "version": 3
   },
   "file_extension": ".py",
   "mimetype": "text/x-python",
   "name": "python",
   "nbconvert_exporter": "python",
   "pygments_lexer": "ipython3",
   "version": "3.11.5"
  }
 },
 "nbformat": 4,
 "nbformat_minor": 2
}
